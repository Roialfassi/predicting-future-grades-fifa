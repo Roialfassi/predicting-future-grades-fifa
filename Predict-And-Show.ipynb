{
 "cells": [
  {
   "cell_type": "markdown",
   "id": "60b6bca1",
   "metadata": {},
   "source": [
    "# Predicting The Ratings"
   ]
  },
  {
   "cell_type": "markdown",
   "id": "3fb0edf6",
   "metadata": {},
   "source": [
    "## Table of Contents\n",
    "\n",
    "* [Load Data](#Load-Data)\n",
    "* [Functions](#Functions)\n",
    "* [Model Function](#Model-Function)\n",
    "* [PFI Function](#PFI)\n",
    "* [Training and testing the models](#Training-and-testing-the-model)\n",
    "* [Predict Fifa23 Data](#Predict-Fifa23-Data)\n",
    "* [Results](#Results)\n",
    "* [Feature Importance](#Feature-Importance)"
   ]
  },
  {
   "cell_type": "code",
   "execution_count": 1,
   "id": "33bf239b",
   "metadata": {},
   "outputs": [],
   "source": [
    "import pandas as pd\n",
    "from sklearn import preprocessing\n",
    "from sklearn.preprocessing import LabelEncoder\n",
    "from sklearn.impute import SimpleImputer\n",
    "from sklearn.ensemble import RandomForestClassifier\n",
    "from sklearn.model_selection import train_test_split\n",
    "from sklearn.metrics import accuracy_score\n",
    "from sklearn.impute import SimpleImputer\n",
    "import xgboost as xgb\n",
    "from sklearn.neighbors import KNeighborsClassifier\n",
    "from xgboost import XGBRegressor\n"
   ]
  },
  {
   "cell_type": "markdown",
   "id": "028b28a8",
   "metadata": {},
   "source": [
    "Data Path "
   ]
  },
  {
   "cell_type": "code",
   "execution_count": 2,
   "id": "b81034ad",
   "metadata": {},
   "outputs": [],
   "source": [
    "folder = f\"Dataset\\After-PreProcess\\predict-by-rating\""
   ]
  },
  {
   "cell_type": "code",
   "execution_count": 3,
   "id": "00992e08",
   "metadata": {},
   "outputs": [],
   "source": [
    "g_folder = f\"Dataset\\After-PreProcess\\predict-with-real-life-stats\""
   ]
  },
  {
   "cell_type": "markdown",
   "id": "f77fe200",
   "metadata": {},
   "source": [
    "## Load Data"
   ]
  },
  {
   "cell_type": "code",
   "execution_count": 4,
   "id": "6a1b2289",
   "metadata": {},
   "outputs": [],
   "source": [
    "## Ratings With Stats\n",
    "g_fielders = pd.read_csv(g_folder+\"/stats_Full_df.csv\")\n",
    "g_keepers = pd.read_csv(g_folder+\"/stats_gk_df.csv\")\n",
    "g_defenders = pd.read_csv(g_folder+\"/stats_defenders_df.csv\")\n",
    "stats_forward_df = pd.read_csv(g_folder+\"/stats_forward_df.csv\")\n",
    "stats_midfielders_df = pd.read_csv(g_folder+\"/stats_midfielders_df.csv\")"
   ]
  },
  {
   "cell_type": "code",
   "execution_count": 5,
   "id": "a1cc9431",
   "metadata": {},
   "outputs": [],
   "source": [
    "## Fifa 23 Ratings With STATS \n",
    "g_stats_midfielders_df_f23 = pd.read_csv(g_folder+\"/f23-stats_midfielders_df.csv\")\n",
    "g_stats_forward_df_f23 = pd.read_csv(g_folder+\"/f23-stats_forward_df.csv\")\n",
    "g_defenders_f23 = pd.read_csv(g_folder+\"/f23-stats_defenders_df.csv\")"
   ]
  },
  {
   "cell_type": "code",
   "execution_count": 6,
   "id": "0760edaa",
   "metadata": {},
   "outputs": [],
   "source": [
    "defenders_df23 = pd.read_csv(folder+\"/f23-defenders_df.csv\")\n",
    "forward_df23 = pd.read_csv(folder+\"/f23-forward_df.csv\")\n",
    "gk_df23 = pd.read_csv(folder+\"/f23-gk_df.csv\")\n",
    "midfielders_df23 = pd.read_csv(folder+\"/f23-midfielders_df.csv\")\n"
   ]
  },
  {
   "cell_type": "code",
   "execution_count": 7,
   "id": "17c0dd3d",
   "metadata": {},
   "outputs": [],
   "source": [
    "gk_df =pd.read_csv(folder+\"/defenders_df.csv\")\n",
    "defenders_df=pd.read_csv(folder+\"/defenders_df.csv\")\n",
    "midfielders_df=pd.read_csv(folder+\"/defenders_df.csv\")\n",
    "forward_df= pd.read_csv(folder+\"/defenders_df.csv\")"
   ]
  },
  {
   "cell_type": "markdown",
   "id": "d0595cde",
   "metadata": {},
   "source": [
    "## Functions"
   ]
  },
  {
   "cell_type": "code",
   "execution_count": 8,
   "id": "bd08503d",
   "metadata": {},
   "outputs": [],
   "source": [
    "def drop_not_needed_fields(df , position_group):\n",
    "    if position_group == \"defenders\":\n",
    "        df = df.drop(['Unnamed: 0', 'Next_Year_Club','GKDiving', 'GKHandling',\n",
    "       'GKKicking', 'GKPositioning', 'GKReflexes', 'Best Position',  'Name' , 'Club', \"Work Rate\", \"Positioning\", \"Position\",\n",
    "                     \"Height\", \"Weight\" , \"Next_Year_Club\"],axis = 1)\n",
    "    elif position_group == \"midfielders\":\n",
    "        df = df.drop(['Unnamed: 0', 'Next_Year_Club','GKDiving', 'GKHandling',\n",
    "       'GKKicking', 'GKPositioning', 'GKReflexes', 'Best Position',  'Name' , 'Club', \"Work Rate\", \"Positioning\", \"Position\",\n",
    "                     \"Height\", \"Weight\" , \"Next_Year_Club\"],axis = 1)\n",
    "    elif position_group == \"forwards\":\n",
    "        df = df.drop(['Unnamed: 0', 'Next_Year_Club','GKDiving', 'GKHandling',\n",
    "       'GKKicking', 'GKPositioning', 'GKReflexes', 'Best Position',  'Name' , 'Club', \"Work Rate\", \"Positioning\", \"Position\",\n",
    "                     \"Height\", \"Weight\" , \"Next_Year_Club\"],axis = 1)   \n",
    "    elif  position_group == \"goalkeepers\":\n",
    "        df = df.drop(['Unnamed: 0', 'Next_Year_Club', 'Best Position',  'Name' , 'Club', \"Work Rate\", \"Positioning\", \"Position\",\n",
    "                     \"Height\", \"Weight\" , \"Next_Year_Club\",\n",
    "                     'Crossing', 'Finishing','HeadingAccuracy', 'ShortPassing', 'Volleys', 'Dribbling', 'Curve',\n",
    "                      'FKAccuracy', 'LongPassing', 'BallControl', 'Agility', 'Reactions', 'Balance', 'ShotPower',\n",
    "                       'Jumping', 'Stamina', 'Strength', 'LongShots', 'Aggression',\n",
    "                       'Interceptions', 'Positioning', 'Vision', 'Penalties', 'Composure',\n",
    "                       'StandingTackle', 'DefensiveAwareness'],axis = 1)\n",
    "    return df"
   ]
  },
  {
   "cell_type": "code",
   "execution_count": 9,
   "id": "db346462",
   "metadata": {},
   "outputs": [],
   "source": [
    "def split_df(df, test_size=0.25, random_state=42):\n",
    "    \"\"\"Splits a Pandas dataframe into train and test sets.\n",
    "\n",
    "    Args:\n",
    "    df: The Pandas dataframe to split.\n",
    "    test_size: The size of the test set, as a fraction of the total dataset.\n",
    "    random_state: The random state to use for shuffling the data.\n",
    "\n",
    "    Returns:\n",
    "    A tuple of train and test dataframes.\n",
    "    \"\"\"\n",
    "\n",
    "    # Shuffle the data.\n",
    "    df = df.sample(frac=1, random_state=random_state)\n",
    "\n",
    "    # Split the data into train and test sets.\n",
    "    train_size = int(len(df) * (1 - test_size))\n",
    "    train_df = df[:train_size]\n",
    "    test_df = df[train_size:]\n",
    "\n",
    "    return train_df, test_df\n"
   ]
  },
  {
   "cell_type": "code",
   "execution_count": 10,
   "id": "b4733945",
   "metadata": {},
   "outputs": [],
   "source": [
    "def get_features(position_group):\n",
    "    if position_group == \"defenders\":\n",
    "        return ['Age', 'Overall', 'Potential' , 'Value', 'Wage',\n",
    "       'International Reputation', 'Weak Foot', 'Skill Moves', 'Crossing', 'Finishing',\n",
    "       'HeadingAccuracy', 'ShortPassing', 'Volleys', 'Dribbling', 'Curve',\n",
    "       'FKAccuracy', 'LongPassing', 'BallControl', 'Acceleration',\n",
    "       'SprintSpeed', 'Agility', 'Reactions', 'Balance', 'ShotPower',\n",
    "       'Jumping', 'Stamina', 'Strength', 'LongShots', 'Aggression',\n",
    "       'Interceptions', 'Positioning', 'Vision', 'Penalties', 'Composure',\n",
    "       'StandingTackle', 'SlidingTackle']\n",
    "    elif position_group == \"midfielders\":\n",
    "        return ['Age', 'Overall', 'Potential' , 'Value', 'Wage',\n",
    "       'International Reputation', 'Weak Foot', 'Skill Moves', 'Crossing', 'Finishing',\n",
    "       'HeadingAccuracy', 'ShortPassing', 'Volleys', 'Dribbling', 'Curve',\n",
    "       'FKAccuracy', 'LongPassing', 'BallControl', 'Acceleration',\n",
    "       'SprintSpeed', 'Agility', 'Reactions', 'Balance', 'ShotPower',\n",
    "       'Jumping', 'Stamina', 'Strength', 'LongShots', 'Aggression',\n",
    "       'Interceptions', 'Positioning', 'Vision', 'Penalties', 'Composure',\n",
    "       'StandingTackle', 'SlidingTackle']\n",
    "    elif position_group == \"forwards\":\n",
    "        return ['Age', 'Overall', 'Potential' , 'Value', 'Wage',\n",
    "       'International Reputation', 'Weak Foot', 'Skill Moves', 'Crossing', 'Finishing',\n",
    "       'HeadingAccuracy', 'ShortPassing', 'Volleys', 'Dribbling', 'Curve',\n",
    "       'FKAccuracy', 'LongPassing', 'BallControl', 'Acceleration',\n",
    "       'SprintSpeed', 'Agility', 'Reactions', 'Balance', 'ShotPower',\n",
    "       'Jumping', 'Stamina', 'Strength', 'LongShots', 'Aggression',\n",
    "       'Interceptions', 'Positioning', 'Vision', 'Penalties', 'Composure',\n",
    "       'StandingTackle', 'SlidingTackle']\n",
    "    elif  position_group == \"goalkeepers\":\n",
    "        return ['GKDiving', 'GKHandling','GKKicking', 'GKPositioning', 'GKReflexes','Age', 'Overall', 'Potential' , 'Value', 'Wage',\n",
    "       'International Reputation', 'Acceleration','SprintSpeed']\n",
    "        "
   ]
  },
  {
   "cell_type": "code",
   "execution_count": 11,
   "id": "43c889d1",
   "metadata": {},
   "outputs": [],
   "source": [
    "# Direction functions\n",
    "def analyze_movement_direction(df):\n",
    "    same_count = 0\n",
    "    higher_count = 0\n",
    "    lower_count = 0\n",
    "\n",
    "    for _, row in df.iterrows():\n",
    "        next_overall = row['Next_Overall']\n",
    "        prediction = row['predictions']\n",
    "\n",
    "        if prediction > next_overall:\n",
    "            higher_count += 1\n",
    "        elif prediction < next_overall:\n",
    "            lower_count += 1\n",
    "        else:\n",
    "            same_count += 1\n",
    "\n",
    "    result = {\n",
    "        'Predicted Right': same_count,\n",
    "        'Predicted Higher': higher_count,\n",
    "        'Predicted Lower': lower_count\n",
    "    }\n",
    "\n",
    "    return result\n"
   ]
  },
  {
   "cell_type": "code",
   "execution_count": 12,
   "id": "e5bd875a",
   "metadata": {},
   "outputs": [],
   "source": [
    "def analyze_movement(df):\n",
    "    total_count = len(df)\n",
    "    move_up_count = 0\n",
    "    move_down_count = 0\n",
    "    pred_move_up_count = 0\n",
    "    pred_move_down_count = 0\n",
    "    pred_same = 0\n",
    "    same = 0\n",
    "    for _, row in df.iterrows():\n",
    "        overall = row['Overall']\n",
    "        next_overall = row['Next_Overall']\n",
    "        prediction = row['predictions']\n",
    "\n",
    "        if next_overall > overall:\n",
    "            move_up_count += 1\n",
    "            if prediction > overall:\n",
    "                pred_move_up_count += 1\n",
    "        elif next_overall < overall:\n",
    "            move_down_count += 1\n",
    "            if prediction < overall:\n",
    "                pred_move_down_count += 1\n",
    "        else:\n",
    "            same += 1\n",
    "            if prediction == overall:\n",
    "                pred_same += 1\n",
    "\n",
    "    result = {\n",
    "        'Total Rows': total_count,\n",
    "        'Moved Up': move_up_count,\n",
    "        'Predicted Move Up': pred_move_up_count,\n",
    "        'Moved Down': move_down_count,\n",
    "        'Predicted Move Down': pred_move_down_count,\n",
    "        'Stayed the Same': same,\n",
    "        'Predicted to Stay the Same': pred_same\n",
    "    }\n",
    "\n",
    "    return result\n"
   ]
  },
  {
   "cell_type": "code",
   "execution_count": 13,
   "id": "a875499b",
   "metadata": {},
   "outputs": [],
   "source": [
    "def generate_prediction_report(df):\n",
    "    diff_counts = {'Exactly': 0,'Off by 1': 0, 'Off by 2': 0,'Off by 3': 0, 'Off by 4 or more': 0}\n",
    "\n",
    "    for _, row in df.iterrows():\n",
    "        next_overall = row['Next_Overall']\n",
    "        prediction = row['predictions']\n",
    "        diff = abs(next_overall - prediction)\n",
    "\n",
    "        if diff == 1:\n",
    "            diff_counts['Off by 1'] += 1\n",
    "        elif diff == 2:\n",
    "            diff_counts['Off by 2'] += 1\n",
    "        elif diff == 3:\n",
    "            diff_counts['Off by 3'] += 1\n",
    "        elif diff >= 4:\n",
    "            diff_counts['Off by 4 or more'] += 1\n",
    "        else:\n",
    "            diff_counts['Exactly'] += 1\n",
    "\n",
    "    return diff_counts\n"
   ]
  },
  {
   "cell_type": "code",
   "execution_count": 14,
   "id": "15bc37b8",
   "metadata": {},
   "outputs": [],
   "source": [
    "def get_features_with_goals(position_group):\n",
    "    if position_group == \"defenders\":\n",
    "        return ['Age', 'Overall', 'Potential' , 'Value', 'Wage',\n",
    "       'International Reputation', 'Weak Foot', 'Skill Moves', 'Crossing', 'Finishing',\n",
    "       'HeadingAccuracy', 'ShortPassing', 'Volleys', 'Dribbling', 'Curve',\n",
    "       'FKAccuracy', 'LongPassing', 'BallControl', 'Acceleration',\n",
    "       'SprintSpeed', 'Agility', 'Reactions', 'Balance', 'ShotPower',\n",
    "       'Jumping', 'Stamina', 'Strength', 'LongShots', 'Aggression',\n",
    "       'Interceptions', 'Positioning', 'Vision', 'Penalties', 'Composure',\n",
    "       'StandingTackle', 'SlidingTackle', 'MP', 'Starts', 'Min', '90s',\n",
    "       'Gls', 'Ast', 'G+A', 'G-PK', 'PK', 'PKatt', 'CrdY', 'CrdR', 'xG',\n",
    "       'npxG', 'xAG', 'npxG+xAG', 'PrgC', 'PrgP', 'PrgR', 'Gls.1', 'Ast.1',\n",
    "       'G+A.1', 'G-PK.1', 'G+A-PK', 'xG.1', 'xAG.1', 'xG+xAG', 'npxG.1',\n",
    "       'npxG+xAG.1']\n",
    "    elif position_group == \"midfielders\":\n",
    "        return ['Age', 'Overall', 'Potential' , 'Value', 'Wage',\n",
    "       'International Reputation', 'Weak Foot', 'Skill Moves', 'Crossing', 'Finishing',\n",
    "       'HeadingAccuracy', 'ShortPassing', 'Volleys', 'Dribbling', 'Curve',\n",
    "       'FKAccuracy', 'LongPassing', 'BallControl', 'Acceleration',\n",
    "       'SprintSpeed', 'Agility', 'Reactions', 'Balance', 'ShotPower',\n",
    "       'Jumping', 'Stamina', 'Strength', 'LongShots', 'Aggression',\n",
    "       'Interceptions', 'Positioning', 'Vision', 'Penalties', 'Composure',\n",
    "       'StandingTackle', 'SlidingTackle', 'MP', 'Starts', 'Min', '90s',\n",
    "       'Gls', 'Ast', 'G+A', 'G-PK', 'PK', 'PKatt', 'CrdY', 'CrdR', 'xG',\n",
    "       'npxG', 'xAG', 'npxG+xAG', 'PrgC', 'PrgP', 'PrgR', 'Gls.1', 'Ast.1',\n",
    "       'G+A.1', 'G-PK.1', 'G+A-PK', 'xG.1', 'xAG.1', 'xG+xAG', 'npxG.1',\n",
    "       'npxG+xAG.1']\n",
    "    elif position_group == \"forwards\":\n",
    "        return ['Age', 'Overall', 'Potential' , 'Value', 'Wage',\n",
    "       'International Reputation', 'Weak Foot', 'Skill Moves', 'Crossing', 'Finishing',\n",
    "       'HeadingAccuracy', 'ShortPassing', 'Volleys', 'Dribbling', 'Curve',\n",
    "       'FKAccuracy', 'LongPassing', 'BallControl', 'Acceleration',\n",
    "       'SprintSpeed', 'Agility', 'Reactions', 'Balance', 'ShotPower',\n",
    "       'Jumping', 'Stamina', 'Strength', 'LongShots', 'Aggression',\n",
    "       'Interceptions', 'Positioning', 'Vision', 'Penalties', 'Composure',\n",
    "       'StandingTackle', 'SlidingTackle', 'MP', 'Starts', 'Min', '90s',\n",
    "       'Gls', 'Ast', 'G+A', 'G-PK', 'PK', 'PKatt', 'CrdY', 'CrdR', 'xG',\n",
    "       'npxG', 'xAG', 'npxG+xAG', 'PrgC', 'PrgP', 'PrgR', 'Gls.1', 'Ast.1',\n",
    "       'G+A.1', 'G-PK.1', 'G+A-PK', 'xG.1', 'xAG.1', 'xG+xAG', 'npxG.1',\n",
    "       'npxG+xAG.1']\n",
    "    elif  position_group == \"goalkeepers\":\n",
    "        return\n"
   ]
  },
  {
   "cell_type": "code",
   "execution_count": 15,
   "id": "598e9fac",
   "metadata": {},
   "outputs": [],
   "source": [
    "import pandas as pd\n",
    "\n",
    "def calculate_change(df, field1, field2, new_field):\n",
    "    df[new_field] = pd.NA\n",
    "    df.loc[df[field2] > df[field1], new_field] = \"Improvement\"\n",
    "    df.loc[df[field2] == df[field1], new_field] = \"Staying the same\"\n",
    "    df.loc[df[field2] < df[field1], new_field] = \"Decline\"\n",
    "    return df\n"
   ]
  },
  {
   "cell_type": "code",
   "execution_count": 16,
   "id": "eff9b2e5",
   "metadata": {},
   "outputs": [],
   "source": [
    "import matplotlib.pyplot as plt\n",
    "\n",
    "def bar(dictionary):\n",
    "    plt.figure(figsize=(10, 5))\n",
    "    plt.bar(range(len(dictionary)), list(dictionary.values()), align='center')\n",
    "    plt.xticks(range(len(dictionary)), list(dictionary.keys()))\n",
    "    plt.show()\n",
    "\n"
   ]
  },
  {
   "cell_type": "code",
   "execution_count": 17,
   "id": "d1346ae4",
   "metadata": {},
   "outputs": [],
   "source": [
    "def create_pie_chart(data_dict):\n",
    "    keys = list(data_dict.keys())\n",
    "    values = list(data_dict.values())\n",
    "\n",
    "    plt.figure(figsize=(6, 6))\n",
    "    plt.pie(values, labels=keys, autopct='%1.1f%%', startangle=90)\n",
    "    plt.axis('equal')\n",
    "    plt.show()\n"
   ]
  },
  {
   "cell_type": "code",
   "execution_count": 18,
   "id": "831f96b5",
   "metadata": {},
   "outputs": [],
   "source": [
    "import matplotlib.pyplot as plt\n",
    "\n",
    "def plot_bar_chart(dictionary , title):\n",
    "    \"\"\"\n",
    "    Plots a bar chart with vertical labels from a dictionary.\n",
    "\n",
    "    Args:\n",
    "    dictionary: A dictionary where the keys are the labels and the values are the values for the bars.\n",
    "\n",
    "    Returns:\n",
    "    None.\n",
    "    \"\"\"\n",
    "    # Get the labels and values from the dictionary.\n",
    "    labels = list(dictionary.keys())\n",
    "    values = list(dictionary.values())\n",
    "    plt.figure(figsize=(12, 6))\n",
    "    # Plot the bar chart.\n",
    "    plt.bar(labels, values)\n",
    "\n",
    "    # Set the labels to be vertical.\n",
    "    plt.xticks(rotation=90)\n",
    "    plt.title(title)\n",
    "\n",
    "    # Show the plot.\n",
    "    plt.show()\n"
   ]
  },
  {
   "cell_type": "code",
   "execution_count": 19,
   "id": "1cadadf3",
   "metadata": {},
   "outputs": [],
   "source": [
    "def calculate_delta(df, field1, field2, new_field):\n",
    "    df[new_field] = defenderswithpredictions[field1]-defenderswithpredictions[field2]\n",
    "    return df"
   ]
  },
  {
   "cell_type": "code",
   "execution_count": 20,
   "id": "80f0911d",
   "metadata": {},
   "outputs": [],
   "source": [
    "import numpy as np\n",
    "\n",
    "def calculate_average_delta(df):\n",
    "    predictions = df['predictions']\n",
    "    next_overall = df['Next_Overall']\n",
    "\n",
    "    # Calculate the deltas\n",
    "    deltas = np.abs(predictions - next_overall)\n",
    "\n",
    "    # Calculate the average delta and standard deviation\n",
    "    average_delta = np.mean(deltas)\n",
    "    std_dev = np.std(deltas)\n",
    "\n",
    "    return average_delta, std_dev"
   ]
  },
  {
   "cell_type": "code",
   "execution_count": 21,
   "id": "6c197e4d",
   "metadata": {},
   "outputs": [],
   "source": [
    "def accuracy_of_trend(df):\n",
    "    df = calculate_change(df.copy() ,\"Overall\", \"Next_Overall\" , \"real_trend\")\n",
    "    df = calculate_change(df.copy() ,\"Overall\", \"predictions\" , \"predicted_trend\")\n",
    "    print(\"accuracy of trend: \", accuracy_score(df[\"real_trend\"], df[\"predicted_trend\"]))\n",
    "    return df"
   ]
  },
  {
   "cell_type": "code",
   "execution_count": 75,
   "id": "6e726965",
   "metadata": {},
   "outputs": [],
   "source": [
    "def predict_new_data(model , new_data , features):\n",
    "    \n",
    "    imputer = SimpleImputer(strategy='mean')\n",
    "    X_test = new_data[features].copy()\n",
    "    X_test_imputed = imputer.fit_transform(X_test)\n",
    "    y_pred = model.predict(X_test_imputed)\n",
    "    # Add the predictions to the dataframe in a column\n",
    "    new_data['Next_Overall'] = np.round(y_pred).astype(int)\n",
    "    return new_data"
   ]
  },
  {
   "cell_type": "code",
   "execution_count": 23,
   "id": "362d8204",
   "metadata": {},
   "outputs": [],
   "source": [
    "column_mapping = {\n",
    "    'Heading Accuracy':'HeadingAccuracy',\n",
    "    'Sprint Speed':'SprintSpeed',\n",
    "    'Known As': 'Name',\n",
    "    'Positions Played': 'Position',\n",
    "    'Image Link': 'ID',\n",
    "    'Club Name': 'Club',\n",
    "    'Club Position': 'Position',\n",
    "    'Contract Until': 'Contract',\n",
    "    'Club Jersey Number': 'Jersey Number',\n",
    "    'Preferred Foot': 'Foot',\n",
    "    'Weak Foot Rating': 'Weak Foot',\n",
    "    'Shot Power':'ShotPower',\n",
    "    'Long Shots':'LongShots',\n",
    "    'Standing Tackle':'StandingTackle',\n",
    "    'Sliding Tackle':'SlidingTackle',\n",
    "    'Short Passing':'ShortPassing', \n",
    "    'Freekick Accuracy':'FKAccuracy', \n",
    "}\n"
   ]
  },
  {
   "cell_type": "code",
   "execution_count": 24,
   "id": "7523bd44",
   "metadata": {},
   "outputs": [],
   "source": [
    "def rename_columns(df_f23, df_f22 , column_mapping):\n",
    "    renamed_columns = []\n",
    "    for column in df_f23.columns:\n",
    "        if column in column_mapping:\n",
    "            renamed_columns.append(column_mapping[column])\n",
    "        else:\n",
    "            renamed_columns.append(column)\n",
    "    \n",
    "    df_f23.columns = renamed_columns\n",
    "    \n",
    "    return df_f23\n"
   ]
  },
  {
   "cell_type": "markdown",
   "id": "8fdb477a",
   "metadata": {},
   "source": [
    "## Model Function"
   ]
  },
  {
   "cell_type": "code",
   "execution_count": 43,
   "id": "55e1c4a2",
   "metadata": {},
   "outputs": [],
   "source": [
    "from sklearn.ensemble import RandomForestRegressor\n",
    "from sklearn.model_selection import GridSearchCV\n",
    "from sklearn.impute import KNNImputer\n",
    "\n",
    "from sklearn.inspection import permutation_importance\n",
    "\n",
    "\n",
    "def run_model(df, features, model_type = \"Random Forest\"):   \n",
    "    train_df, test_df = split_df(df)\n",
    "    \n",
    "    y_train = train_df['Next_Overall']\n",
    "    y_test = test_df['Next_Overall']\n",
    "    \n",
    "    X_train = train_df[features].copy()\n",
    "    X_test = test_df[features].copy()\n",
    "\n",
    "    # Create a SimpleImputer to handle missing values\n",
    "    imputer = KNNImputer()\n",
    "\n",
    "    # Impute missing values in training data\n",
    "    X_train_imputed = imputer.fit_transform(X_train)\n",
    "\n",
    "    # Impute missing values in testing data\n",
    "    X_test_imputed = imputer.transform(X_test)\n",
    "\n",
    "\n",
    "\n",
    "    # Create the Random Forest Regression model\n",
    "    if model_type.lower() == \"xgboost\":\n",
    "        model = XGBRegressor()\n",
    "        param_grid = {\n",
    "            'n_estimators': [100, 200, 300],\n",
    "            'max_depth': [None, 5, 10]\n",
    "        }\n",
    "    else:   \n",
    "        model = RandomForestRegressor(random_state=42)\n",
    "            # Define the parameter grid for GridSearchCV\n",
    "        param_grid = {\n",
    "            'n_estimators': [100, 200, 300],\n",
    "            'max_depth': [None, 5, 10],\n",
    "            'min_samples_split': [2, 5, 10]\n",
    "        }\n",
    "\n",
    "    # Perform grid search to find the best model\n",
    "    grid_search = GridSearchCV(estimator=model, param_grid=param_grid, scoring='neg_mean_squared_error', cv=5)\n",
    "    grid_search.fit(X_train_imputed, y_train)\n",
    "\n",
    "    # Get the best model from grid search\n",
    "    best_model = grid_search.best_estimator_\n",
    "    best_model.fit(X_train_imputed, y_train)\n",
    "    # Make predictions on the test set\n",
    "    y_pred = np.round(best_model.predict(X_test_imputed))\n",
    "\n",
    "    # Evaluate the model\n",
    "    accuracy = accuracy_score(y_test, y_pred)\n",
    "\n",
    "    # Compute permutation feature importance\n",
    "    result = permutation_importance(best_model, X_train_imputed, y_train)\n",
    "    feature_importance = {feature: importance for feature, importance in zip(features, result.importances_mean)}\n",
    "\n",
    "    # Train the model with adjusted weights\n",
    "\n",
    "    # Add the predictions to the dataframe in a column\n",
    "    test_df['predictions'] = np.round(best_model.predict(X_test_imputed)).astype(int)\n",
    "    test_df['Next_Overall'] = test_df['Next_Overall'].astype(int)\n",
    "    print(f'Best Model Accuracy: {accuracy}')\n",
    "    \n",
    "    # Return the best model, test dataframe, feature importance, and best weight set\n",
    "    return best_model, test_df, feature_importance\n"
   ]
  },
  {
   "cell_type": "markdown",
   "id": "a13e199c",
   "metadata": {},
   "source": [
    "## PFI"
   ]
  },
  {
   "cell_type": "code",
   "execution_count": 41,
   "id": "91314cc5",
   "metadata": {},
   "outputs": [],
   "source": [
    "import numpy as np\n",
    "from sklearn.metrics import r2_score\n",
    "\n",
    "def permutation_feature_importance(model, X, y, num_iterations=100):\n",
    "    \"\"\"\n",
    "    Perform Permutation Feature Importance on a trained random forest model.\n",
    "\n",
    "    Parameters:\n",
    "        - model: Trained random forest model\n",
    "        - X: Input features\n",
    "        - y: Target variable\n",
    "        - num_iterations: Number of iterations for permutation\n",
    "\n",
    "    Returns:\n",
    "        - feature_importances: Dictionary of feature importances\n",
    "    \"\"\"\n",
    "    # Calculate the baseline score\n",
    "    baseline_score = r2_score(y, model.predict(X))\n",
    "\n",
    "    # Initialize an empty dictionary to store feature importances\n",
    "    feature_importances = {}\n",
    "\n",
    "    # Iterate over each feature\n",
    "    for feature in X.columns:\n",
    "        # Make a copy of the original feature values\n",
    "        X_permuted = X.copy()\n",
    "\n",
    "        # Permute the values of the current feature\n",
    "        X_permuted[feature] = np.random.permutation(X_permuted[feature])\n",
    "\n",
    "        # Calculate the score after permuting the feature\n",
    "        permuted_score = r2_score(y, model.predict(X_permuted))\n",
    "\n",
    "        # Calculate the feature importance as the difference between the baseline score and permuted score\n",
    "        feature_importance = baseline_score - permuted_score\n",
    "\n",
    "        # Store the feature importance in the dictionary\n",
    "        feature_importances[feature] = feature_importance\n",
    "\n",
    "    return feature_importances\n"
   ]
  },
  {
   "cell_type": "markdown",
   "id": "186f7ba3",
   "metadata": {},
   "source": [
    "## Model Report"
   ]
  },
  {
   "cell_type": "code",
   "execution_count": 27,
   "id": "4f7f3177",
   "metadata": {},
   "outputs": [],
   "source": [
    "def report_results(results_df):\n",
    "    accuracy_of_trend(results_df.copy())\n",
    "    average_delta ,std_dev = calculate_average_delta(results_df.copy())\n",
    "    print(\"average delta of prediction from Next Overall: \",average_delta)\n",
    "    print(\"standard deviation: \",std_dev)\n",
    "    create_pie_chart(generate_prediction_report(results_df.copy()))"
   ]
  },
  {
   "cell_type": "markdown",
   "id": "ced5048c",
   "metadata": {},
   "source": [
    "## Training and testing the model"
   ]
  },
  {
   "cell_type": "markdown",
   "id": "7dc33412",
   "metadata": {},
   "source": [
    "Random Forest"
   ]
  },
  {
   "cell_type": "code",
   "execution_count": 28,
   "id": "89f38d01",
   "metadata": {
    "scrolled": true
   },
   "outputs": [
    {
     "name": "stdout",
     "output_type": "stream",
     "text": [
      "Best Model Accuracy: 0.2317773788150808\n"
     ]
    }
   ],
   "source": [
    "model_def , defenderswithpredictions , def_pfi  = run_model(defenders_df.copy(), get_features(\"defenders\"))"
   ]
  },
  {
   "cell_type": "code",
   "execution_count": 29,
   "id": "db7e8557",
   "metadata": {},
   "outputs": [
    {
     "name": "stdout",
     "output_type": "stream",
     "text": [
      "accuracy of trend:  0.44542190305206464\n",
      "average delta of prediction from Next Overall:  1.4798922800718133\n",
      "standard deviation:  1.4088874059651704\n"
     ]
    },
    {
     "data": {
      "image/png": "[encoded data removed]",
      "text/plain": [
       "<Figure size 432x432 with 1 Axes>"
      ]
     },
     "metadata": {},
     "output_type": "display_data"
    }
   ],
   "source": [
    "report_results(defenderswithpredictions)"
   ]
  },
  {
   "cell_type": "code",
   "execution_count": 30,
   "id": "766873c7",
   "metadata": {},
   "outputs": [
    {
     "name": "stdout",
     "output_type": "stream",
     "text": [
      "Best Model Accuracy: 0.2317773788150808\n"
     ]
    }
   ],
   "source": [
    "model_mid, midsswithpredictions, mid_pfi  = run_model(midfielders_df.copy(), get_features(\"midfielders\"))"
   ]
  },
  {
   "cell_type": "code",
   "execution_count": 31,
   "id": "2012f74c",
   "metadata": {},
   "outputs": [
    {
     "name": "stdout",
     "output_type": "stream",
     "text": [
      "accuracy of trend:  0.44542190305206464\n",
      "average delta of prediction from Next Overall:  1.4798922800718133\n",
      "standard deviation:  1.4088874059651704\n"
     ]
    },
    {
     "data": {
      "image/png": "[encoded data removed]",
      "text/plain": [
       "<Figure size 432x432 with 1 Axes>"
      ]
     },
     "metadata": {},
     "output_type": "display_data"
    }
   ],
   "source": [
    "report_results(midsswithpredictions)"
   ]
  },
  {
   "cell_type": "code",
   "execution_count": 32,
   "id": "d7b31595",
   "metadata": {},
   "outputs": [
    {
     "name": "stdout",
     "output_type": "stream",
     "text": [
      "Best Model Accuracy: 0.2317773788150808\n"
     ]
    }
   ],
   "source": [
    "model_fw, fwwithpredictions, fwd_pfi = run_model(forward_df.copy() , get_features(\"forwards\"))"
   ]
  },
  {
   "cell_type": "code",
   "execution_count": 33,
   "id": "1ec06836",
   "metadata": {},
   "outputs": [
    {
     "name": "stdout",
     "output_type": "stream",
     "text": [
      "accuracy of trend:  0.44542190305206464\n",
      "average delta of prediction from Next Overall:  1.4798922800718133\n",
      "standard deviation:  1.4088874059651704\n"
     ]
    },
    {
     "data": {
      "image/png": "[encoded data removed]",
      "text/plain": [
       "<Figure size 432x432 with 1 Axes>"
      ]
     },
     "metadata": {},
     "output_type": "display_data"
    }
   ],
   "source": [
    "report_results(fwwithpredictions)"
   ]
  },
  {
   "cell_type": "markdown",
   "id": "66f751d4",
   "metadata": {},
   "source": [
    "XGBoost"
   ]
  },
  {
   "cell_type": "code",
   "execution_count": 44,
   "id": "95f8ab06",
   "metadata": {},
   "outputs": [
    {
     "name": "stdout",
     "output_type": "stream",
     "text": [
      "Best Model Accuracy: 0.23087971274685817\n"
     ]
    }
   ],
   "source": [
    "xgmodel_def , xgdefenderswithpredictions , xgdef_pfi  = run_model(defenders_df.copy(), get_features(\"defenders\"), model_type =\"xgboost\")"
   ]
  },
  {
   "cell_type": "code",
   "execution_count": 45,
   "id": "d643fc0c",
   "metadata": {},
   "outputs": [
    {
     "name": "stdout",
     "output_type": "stream",
     "text": [
      "accuracy of trend:  0.4488330341113106\n",
      "average delta of prediction from Next Overall:  1.5136445242369838\n",
      "standard deviation:  1.4430831132826647\n"
     ]
    },
    {
     "data": {
      "image/png": "[encoded data removed]",
      "text/plain": [
       "<Figure size 432x432 with 1 Axes>"
      ]
     },
     "metadata": {},
     "output_type": "display_data"
    }
   ],
   "source": [
    "report_results(xgdefenderswithpredictions)"
   ]
  },
  {
   "cell_type": "code",
   "execution_count": 46,
   "id": "b6f7db6e",
   "metadata": {},
   "outputs": [
    {
     "name": "stdout",
     "output_type": "stream",
     "text": [
      "Best Model Accuracy: 0.23087971274685817\n"
     ]
    }
   ],
   "source": [
    "xgmodel_mid, xgmidsswithpredictions, xgmid_pfi  = run_model(midfielders_df.copy(), get_features(\"midfielders\"), model_type =\"xgboost\")"
   ]
  },
  {
   "cell_type": "code",
   "execution_count": 47,
   "id": "4116d406",
   "metadata": {},
   "outputs": [
    {
     "name": "stdout",
     "output_type": "stream",
     "text": [
      "accuracy of trend:  0.4488330341113106\n",
      "average delta of prediction from Next Overall:  1.5136445242369838\n",
      "standard deviation:  1.4430831132826647\n"
     ]
    },
    {
     "data": {
      "image/png": "[encoded data removed]",
      "text/plain": [
       "<Figure size 432x432 with 1 Axes>"
      ]
     },
     "metadata": {},
     "output_type": "display_data"
    }
   ],
   "source": [
    "report_results(xgmidsswithpredictions)"
   ]
  },
  {
   "cell_type": "code",
   "execution_count": 48,
   "id": "36dd789e",
   "metadata": {},
   "outputs": [
    {
     "name": "stdout",
     "output_type": "stream",
     "text": [
      "Best Model Accuracy: 0.23087971274685817\n"
     ]
    }
   ],
   "source": [
    "xgmodel_fw, xgfwwithpredictions, xgfwd_pfi = run_model(forward_df.copy() , get_features(\"forwards\"), model_type =\"xgboost\")"
   ]
  },
  {
   "cell_type": "code",
   "execution_count": 49,
   "id": "8d4f0d85",
   "metadata": {},
   "outputs": [
    {
     "name": "stdout",
     "output_type": "stream",
     "text": [
      "accuracy of trend:  0.4488330341113106\n",
      "average delta of prediction from Next Overall:  1.5136445242369838\n",
      "standard deviation:  1.4430831132826647\n"
     ]
    },
    {
     "data": {
      "image/png": "[encoded data removed]",
      "text/plain": [
       "<Figure size 432x432 with 1 Axes>"
      ]
     },
     "metadata": {},
     "output_type": "display_data"
    }
   ],
   "source": [
    "report_results(xgfwwithpredictions)"
   ]
  },
  {
   "cell_type": "markdown",
   "id": "b2e62cf1",
   "metadata": {},
   "source": [
    "## With Stats"
   ]
  },
  {
   "cell_type": "markdown",
   "id": "408d0145",
   "metadata": {},
   "source": [
    "Random Forest"
   ]
  },
  {
   "cell_type": "code",
   "execution_count": 56,
   "id": "a780939d",
   "metadata": {},
   "outputs": [
    {
     "name": "stdout",
     "output_type": "stream",
     "text": [
      "Best Model Accuracy: 0.26596858638743454\n"
     ]
    }
   ],
   "source": [
    "model_defenders_g , defenderswithpredictions_g , def_pfi_g  = run_model(g_defenders.copy(), get_features_with_goals(\"defenders\"))"
   ]
  },
  {
   "cell_type": "code",
   "execution_count": 57,
   "id": "e4930f87",
   "metadata": {},
   "outputs": [
    {
     "name": "stdout",
     "output_type": "stream",
     "text": [
      "accuracy of trend:  0.5099476439790576\n",
      "average delta of prediction from Next Overall:  1.3350785340314135\n",
      "standard deviation:  1.3195171531255725\n"
     ]
    },
    {
     "data": {
      "image/png": "[encoded data removed]",
      "text/plain": [
       "<Figure size 432x432 with 1 Axes>"
      ]
     },
     "metadata": {},
     "output_type": "display_data"
    }
   ],
   "source": [
    "report_results(defenderswithpredictions_g)"
   ]
  },
  {
   "cell_type": "code",
   "execution_count": 58,
   "id": "8e623a50",
   "metadata": {},
   "outputs": [
    {
     "name": "stdout",
     "output_type": "stream",
     "text": [
      "Best Model Accuracy: 0.30422794117647056\n"
     ]
    }
   ],
   "source": [
    "model_mids_g , midswithpredictions_g, mid_pfi_g  = run_model(stats_midfielders_df.copy(), get_features_with_goals(\"defenders\"))"
   ]
  },
  {
   "cell_type": "code",
   "execution_count": 59,
   "id": "dc29c652",
   "metadata": {},
   "outputs": [
    {
     "name": "stdout",
     "output_type": "stream",
     "text": [
      "accuracy of trend:  0.5119485294117647\n",
      "average delta of prediction from Next Overall:  1.228860294117647\n",
      "standard deviation:  1.2134410336917762\n"
     ]
    },
    {
     "data": {
      "image/png": "[encoded data removed]",
      "text/plain": [
       "<Figure size 432x432 with 1 Axes>"
      ]
     },
     "metadata": {},
     "output_type": "display_data"
    }
   ],
   "source": [
    "report_results(midswithpredictions_g)"
   ]
  },
  {
   "cell_type": "code",
   "execution_count": 60,
   "id": "a467d879",
   "metadata": {},
   "outputs": [
    {
     "name": "stdout",
     "output_type": "stream",
     "text": [
      "Best Model Accuracy: 0.2953271028037383\n"
     ]
    }
   ],
   "source": [
    "model_forwards_g , forwardswithpredictions_g, fw_pfi_g  = run_model(stats_forward_df.copy(), get_features_with_goals(\"defenders\"))"
   ]
  },
  {
   "cell_type": "code",
   "execution_count": 61,
   "id": "c26a5563",
   "metadata": {},
   "outputs": [
    {
     "name": "stdout",
     "output_type": "stream",
     "text": [
      "accuracy of trend:  0.5401869158878505\n",
      "average delta of prediction from Next Overall:  1.2149532710280373\n",
      "standard deviation:  1.2606780358068899\n"
     ]
    },
    {
     "data": {
      "image/png": "[encoded data removed]",
      "text/plain": [
       "<Figure size 432x432 with 1 Axes>"
      ]
     },
     "metadata": {},
     "output_type": "display_data"
    }
   ],
   "source": [
    "report_results(forwardswithpredictions_g)"
   ]
  },
  {
   "cell_type": "markdown",
   "id": "73a11f82",
   "metadata": {},
   "source": [
    "XGBoost"
   ]
  },
  {
   "cell_type": "code",
   "execution_count": 50,
   "id": "75dac07a",
   "metadata": {},
   "outputs": [
    {
     "name": "stdout",
     "output_type": "stream",
     "text": [
      "Best Model Accuracy: 0.27225130890052357\n"
     ]
    }
   ],
   "source": [
    "xgmodel_defenders_g , xgdefenderswithpredictions_g , xgdef_pfi_g  = run_model(g_defenders.copy(), get_features_with_goals(\"defenders\"),model_type =\"xgboost\")"
   ]
  },
  {
   "cell_type": "code",
   "execution_count": 51,
   "id": "1c07ce93",
   "metadata": {},
   "outputs": [
    {
     "name": "stdout",
     "output_type": "stream",
     "text": [
      "accuracy of trend:  0.5319371727748691\n",
      "average delta of prediction from Next Overall:  1.4041884816753927\n",
      "standard deviation:  1.3567682753353074\n"
     ]
    },
    {
     "data": {
      "image/png": "[encoded data removed]",
      "text/plain": [
       "<Figure size 432x432 with 1 Axes>"
      ]
     },
     "metadata": {},
     "output_type": "display_data"
    }
   ],
   "source": [
    "report_results(xgdefenderswithpredictions_g)"
   ]
  },
  {
   "cell_type": "code",
   "execution_count": 52,
   "id": "089de5a9",
   "metadata": {},
   "outputs": [
    {
     "name": "stdout",
     "output_type": "stream",
     "text": [
      "Best Model Accuracy: 0.25735294117647056\n"
     ]
    }
   ],
   "source": [
    "xgmodel_mids_g , xgmidswithpredictions_g, xgmid_pfi_g  = run_model(stats_midfielders_df.copy(), get_features_with_goals(\"defenders\"),model_type =\"xgboost\")"
   ]
  },
  {
   "cell_type": "code",
   "execution_count": 53,
   "id": "2238fcad",
   "metadata": {},
   "outputs": [
    {
     "name": "stdout",
     "output_type": "stream",
     "text": [
      "accuracy of trend:  0.5202205882352942\n",
      "average delta of prediction from Next Overall:  1.3134191176470589\n",
      "standard deviation:  1.2232896526744494\n"
     ]
    },
    {
     "data": {
      "image/png": "[encoded data removed]",
      "text/plain": [
       "<Figure size 432x432 with 1 Axes>"
      ]
     },
     "metadata": {},
     "output_type": "display_data"
    }
   ],
   "source": [
    "report_results(xgmidswithpredictions_g)"
   ]
  },
  {
   "cell_type": "code",
   "execution_count": 54,
   "id": "52b61e2a",
   "metadata": {},
   "outputs": [
    {
     "name": "stdout",
     "output_type": "stream",
     "text": [
      "Best Model Accuracy: 0.2616822429906542\n"
     ]
    }
   ],
   "source": [
    "xgmodel_forwards_g , xgforwardswithpredictions_g, xgfw_pfi_g  = run_model(stats_forward_df.copy(), get_features_with_goals(\"defenders\"),model_type =\"xgboost\")"
   ]
  },
  {
   "cell_type": "code",
   "execution_count": 55,
   "id": "b11ab616",
   "metadata": {},
   "outputs": [
    {
     "name": "stdout",
     "output_type": "stream",
     "text": [
      "accuracy of trend:  0.4934579439252336\n",
      "average delta of prediction from Next Overall:  1.388785046728972\n",
      "standard deviation:  1.3569707262597612\n"
     ]
    },
    {
     "data": {
      "image/png": "[encoded data removed]",
      "text/plain": [
       "<Figure size 432x432 with 1 Axes>"
      ]
     },
     "metadata": {},
     "output_type": "display_data"
    }
   ],
   "source": [
    "report_results(xgforwardswithpredictions_g)"
   ]
  },
  {
   "cell_type": "markdown",
   "id": "7c53af73",
   "metadata": {},
   "source": [
    "### Predict Fifa23 Data"
   ]
  },
  {
   "cell_type": "code",
   "execution_count": 62,
   "id": "7a34380e",
   "metadata": {},
   "outputs": [],
   "source": [
    "defenders_df23 = rename_columns(defenders_df23 , defenders_df , column_mapping)"
   ]
  },
  {
   "cell_type": "code",
   "execution_count": 63,
   "id": "636095df",
   "metadata": {},
   "outputs": [],
   "source": [
    "midfielders_df23 = rename_columns(midfielders_df23 , midfielders_df , column_mapping)"
   ]
  },
  {
   "cell_type": "code",
   "execution_count": 64,
   "id": "b8db81cf",
   "metadata": {},
   "outputs": [],
   "source": [
    "forward_df23 = rename_columns(forward_df23 , forward_df , column_mapping)"
   ]
  },
  {
   "cell_type": "code",
   "execution_count": 76,
   "id": "cb39a486",
   "metadata": {},
   "outputs": [],
   "source": [
    "g_stats_midfielders_df_f23 = rename_columns(g_stats_midfielders_df_f23 , midfielders_df , column_mapping)\n",
    "g_stats_forward_df_f23 = rename_columns(g_stats_forward_df_f23 , forward_df , column_mapping)\n",
    "g_defenders_f23 = rename_columns(g_defenders_f23 , defenders_df , column_mapping)"
   ]
  },
  {
   "cell_type": "markdown",
   "id": "ec4ac524",
   "metadata": {},
   "source": [
    "Predicted fifa 23 data"
   ]
  },
  {
   "cell_type": "code",
   "execution_count": 66,
   "id": "bfd98b53",
   "metadata": {},
   "outputs": [],
   "source": [
    "predicted_df_def = predict_new_data(model_def , defenders_df23.copy() , get_features(\"defenders\"))"
   ]
  },
  {
   "cell_type": "code",
   "execution_count": 67,
   "id": "1eee6baa",
   "metadata": {},
   "outputs": [],
   "source": [
    "predicted_df_mid = predict_new_data(model_mid , midfielders_df23.copy()  , get_features(\"midfielders\"))"
   ]
  },
  {
   "cell_type": "code",
   "execution_count": 68,
   "id": "5186feaf",
   "metadata": {},
   "outputs": [],
   "source": [
    "predicted_df_fw = predict_new_data(model_fw , forward_df23.copy() , get_features(\"forwards\"))"
   ]
  },
  {
   "cell_type": "markdown",
   "id": "5ac04dee",
   "metadata": {},
   "source": [
    "XGBoost"
   ]
  },
  {
   "cell_type": "code",
   "execution_count": 69,
   "id": "981bd32f",
   "metadata": {},
   "outputs": [],
   "source": [
    "xgpredicted_df_def = predict_new_data(xgmodel_def , defenders_df23.copy() , get_features(\"defenders\"))"
   ]
  },
  {
   "cell_type": "code",
   "execution_count": 70,
   "id": "6ae98576",
   "metadata": {},
   "outputs": [],
   "source": [
    "xgpredicted_df_mid = predict_new_data(xgmodel_mid , midfielders_df23.copy()  , get_features(\"midfielders\"))"
   ]
  },
  {
   "cell_type": "code",
   "execution_count": 71,
   "id": "4de76d82",
   "metadata": {},
   "outputs": [],
   "source": [
    "xgpredicted_df_fw = predict_new_data(xgmodel_fw , forward_df23.copy() , get_features(\"forwards\"))"
   ]
  },
  {
   "cell_type": "markdown",
   "id": "bdf5d16c",
   "metadata": {},
   "source": [
    "With goals"
   ]
  },
  {
   "cell_type": "code",
   "execution_count": 72,
   "id": "431c7b98",
   "metadata": {},
   "outputs": [],
   "source": [
    "predicted_df_def_g = predict_new_data(model_defenders_g , g_defenders_f23.copy() , get_features_with_goals(\"defenders\"))"
   ]
  },
  {
   "cell_type": "code",
   "execution_count": 80,
   "id": "ad638ab7",
   "metadata": {},
   "outputs": [],
   "source": [
    "predicted_df_mid_g = predict_new_data(model_mids_g , g_stats_midfielders_df_f23.copy() , get_features_with_goals(\"midfielders\"))"
   ]
  },
  {
   "cell_type": "code",
   "execution_count": 81,
   "id": "e2a5bda5",
   "metadata": {},
   "outputs": [],
   "source": [
    "predicted_df_fw_g = predict_new_data(model_forwards_g , g_stats_forward_df_f23.copy() , get_features_with_goals(\"forwards\"))"
   ]
  },
  {
   "cell_type": "markdown",
   "id": "cf4a3071",
   "metadata": {},
   "source": [
    "XGBoost"
   ]
  },
  {
   "cell_type": "code",
   "execution_count": 82,
   "id": "ceebcdf3",
   "metadata": {},
   "outputs": [],
   "source": [
    "xgpredicted_df_def_g = predict_new_data(xgmodel_defenders_g , g_defenders_f23.copy() , get_features_with_goals(\"defenders\"))"
   ]
  },
  {
   "cell_type": "code",
   "execution_count": 83,
   "id": "d600ade4",
   "metadata": {},
   "outputs": [],
   "source": [
    "xgpredicted_df_mid_g = predict_new_data(xgmodel_mids_g , g_stats_midfielders_df_f23.copy() , get_features_with_goals(\"midfielders\"))"
   ]
  },
  {
   "cell_type": "code",
   "execution_count": 84,
   "id": "54384259",
   "metadata": {},
   "outputs": [],
   "source": [
    "xgpredicted_df_fw_g = predict_new_data(xgmodel_forwards_g , g_stats_forward_df_f23.copy() , get_features_with_goals(\"forwards\"))"
   ]
  },
  {
   "cell_type": "markdown",
   "id": "3b39ad54",
   "metadata": {},
   "source": [
    "## Results"
   ]
  },
  {
   "cell_type": "code",
   "execution_count": 85,
   "id": "00e5a0eb",
   "metadata": {},
   "outputs": [
    {
     "data": {
      "text/html": [
       "<div>\n",
       "<style scoped>\n",
       "    .dataframe tbody tr th:only-of-type {\n",
       "        vertical-align: middle;\n",
       "    }\n",
       "\n",
       "    .dataframe tbody tr th {\n",
       "        vertical-align: top;\n",
       "    }\n",
       "\n",
       "    .dataframe thead th {\n",
       "        text-align: right;\n",
       "    }\n",
       "</style>\n",
       "<table border=\"1\" class=\"dataframe\">\n",
       "  <thead>\n",
       "    <tr style=\"text-align: right;\">\n",
       "      <th></th>\n",
       "      <th>Name</th>\n",
       "      <th>ID</th>\n",
       "      <th>Overall</th>\n",
       "      <th>Next_Overall</th>\n",
       "    </tr>\n",
       "  </thead>\n",
       "  <tbody>\n",
       "    <tr>\n",
       "      <th>0</th>\n",
       "      <td>V. van Dijk</td>\n",
       "      <td>https://cdn.sofifa.net/players/203/376/23_60.png</td>\n",
       "      <td>90</td>\n",
       "      <td>89</td>\n",
       "    </tr>\n",
       "    <tr>\n",
       "      <th>1</th>\n",
       "      <td>Rúben Dias</td>\n",
       "      <td>https://cdn.sofifa.net/players/239/818/23_60.png</td>\n",
       "      <td>88</td>\n",
       "      <td>88</td>\n",
       "    </tr>\n",
       "    <tr>\n",
       "      <th>2</th>\n",
       "      <td>João Cancelo</td>\n",
       "      <td>https://cdn.sofifa.net/players/210/514/23_60.png</td>\n",
       "      <td>88</td>\n",
       "      <td>87</td>\n",
       "    </tr>\n",
       "    <tr>\n",
       "      <th>3</th>\n",
       "      <td>Marquinhos</td>\n",
       "      <td>https://cdn.sofifa.net/players/207/865/23_60.png</td>\n",
       "      <td>88</td>\n",
       "      <td>88</td>\n",
       "    </tr>\n",
       "    <tr>\n",
       "      <th>4</th>\n",
       "      <td>A. Rüdiger</td>\n",
       "      <td>https://cdn.sofifa.net/players/205/452/23_60.png</td>\n",
       "      <td>87</td>\n",
       "      <td>86</td>\n",
       "    </tr>\n",
       "    <tr>\n",
       "      <th>5</th>\n",
       "      <td>A. Robertson</td>\n",
       "      <td>https://cdn.sofifa.net/players/216/267/23_60.png</td>\n",
       "      <td>87</td>\n",
       "      <td>87</td>\n",
       "    </tr>\n",
       "    <tr>\n",
       "      <th>6</th>\n",
       "      <td>K. Koulibaly</td>\n",
       "      <td>https://cdn.sofifa.net/players/201/024/23_60.png</td>\n",
       "      <td>87</td>\n",
       "      <td>86</td>\n",
       "    </tr>\n",
       "    <tr>\n",
       "      <th>7</th>\n",
       "      <td>D. Alaba</td>\n",
       "      <td>https://cdn.sofifa.net/players/197/445/23_60.png</td>\n",
       "      <td>86</td>\n",
       "      <td>86</td>\n",
       "    </tr>\n",
       "    <tr>\n",
       "      <th>8</th>\n",
       "      <td>Thiago Silva</td>\n",
       "      <td>https://cdn.sofifa.net/players/164/240/23_60.png</td>\n",
       "      <td>86</td>\n",
       "      <td>85</td>\n",
       "    </tr>\n",
       "    <tr>\n",
       "      <th>9</th>\n",
       "      <td>A. Laporte</td>\n",
       "      <td>https://cdn.sofifa.net/players/212/218/23_60.png</td>\n",
       "      <td>86</td>\n",
       "      <td>86</td>\n",
       "    </tr>\n",
       "  </tbody>\n",
       "</table>\n",
       "</div>"
      ],
      "text/plain": [
       "           Name                                                ID  Overall  \\\n",
       "0   V. van Dijk  https://cdn.sofifa.net/players/203/376/23_60.png       90   \n",
       "1    Rúben Dias  https://cdn.sofifa.net/players/239/818/23_60.png       88   \n",
       "2  João Cancelo  https://cdn.sofifa.net/players/210/514/23_60.png       88   \n",
       "3    Marquinhos  https://cdn.sofifa.net/players/207/865/23_60.png       88   \n",
       "4    A. Rüdiger  https://cdn.sofifa.net/players/205/452/23_60.png       87   \n",
       "5  A. Robertson  https://cdn.sofifa.net/players/216/267/23_60.png       87   \n",
       "6  K. Koulibaly  https://cdn.sofifa.net/players/201/024/23_60.png       87   \n",
       "7      D. Alaba  https://cdn.sofifa.net/players/197/445/23_60.png       86   \n",
       "8  Thiago Silva  https://cdn.sofifa.net/players/164/240/23_60.png       86   \n",
       "9    A. Laporte  https://cdn.sofifa.net/players/212/218/23_60.png       86   \n",
       "\n",
       "   Next_Overall  \n",
       "0            89  \n",
       "1            88  \n",
       "2            87  \n",
       "3            88  \n",
       "4            86  \n",
       "5            87  \n",
       "6            86  \n",
       "7            86  \n",
       "8            85  \n",
       "9            86  "
      ]
     },
     "execution_count": 85,
     "metadata": {},
     "output_type": "execute_result"
    }
   ],
   "source": [
    "predicted_df_def[[\"Name\",\"ID\",\"Overall\",\"Next_Overall\"]].head(10)"
   ]
  },
  {
   "cell_type": "code",
   "execution_count": 86,
   "id": "d4f55c64",
   "metadata": {},
   "outputs": [
    {
     "ename": "KeyError",
     "evalue": "\"['predictions'] not in index\"",
     "output_type": "error",
     "traceback": [
      "\u001b[1;31m---------------------------------------------------------------------------\u001b[0m",
      "\u001b[1;31mKeyError\u001b[0m                                  Traceback (most recent call last)",
      "\u001b[1;32m~\\AppData\\Local\\Temp/ipykernel_16352/298923250.py\u001b[0m in \u001b[0;36m<module>\u001b[1;34m\u001b[0m\n\u001b[1;32m----> 1\u001b[1;33m \u001b[0mpredicted_df_def_g\u001b[0m\u001b[1;33m[\u001b[0m\u001b[1;33m[\u001b[0m\u001b[1;34m\"Name\"\u001b[0m\u001b[1;33m,\u001b[0m\u001b[1;34m\"ID\"\u001b[0m\u001b[1;33m,\u001b[0m\u001b[1;34m\"Overall\"\u001b[0m\u001b[1;33m,\u001b[0m\u001b[1;34m\"predictions\"\u001b[0m\u001b[1;33m,\u001b[0m\u001b[1;34m\"Next_Overall\"\u001b[0m\u001b[1;33m]\u001b[0m\u001b[1;33m]\u001b[0m\u001b[1;33m.\u001b[0m\u001b[0mhead\u001b[0m\u001b[1;33m(\u001b[0m\u001b[1;36m20\u001b[0m\u001b[1;33m)\u001b[0m\u001b[1;33m\u001b[0m\u001b[1;33m\u001b[0m\u001b[0m\n\u001b[0m",
      "\u001b[1;32m~\\AppData\\Roaming\\Python\\Python38\\site-packages\\pandas\\core\\frame.py\u001b[0m in \u001b[0;36m__getitem__\u001b[1;34m(self, key)\u001b[0m\n\u001b[0;32m   3811\u001b[0m             \u001b[1;32mif\u001b[0m \u001b[0mis_iterator\u001b[0m\u001b[1;33m(\u001b[0m\u001b[0mkey\u001b[0m\u001b[1;33m)\u001b[0m\u001b[1;33m:\u001b[0m\u001b[1;33m\u001b[0m\u001b[1;33m\u001b[0m\u001b[0m\n\u001b[0;32m   3812\u001b[0m                 \u001b[0mkey\u001b[0m \u001b[1;33m=\u001b[0m \u001b[0mlist\u001b[0m\u001b[1;33m(\u001b[0m\u001b[0mkey\u001b[0m\u001b[1;33m)\u001b[0m\u001b[1;33m\u001b[0m\u001b[1;33m\u001b[0m\u001b[0m\n\u001b[1;32m-> 3813\u001b[1;33m             \u001b[0mindexer\u001b[0m \u001b[1;33m=\u001b[0m \u001b[0mself\u001b[0m\u001b[1;33m.\u001b[0m\u001b[0mcolumns\u001b[0m\u001b[1;33m.\u001b[0m\u001b[0m_get_indexer_strict\u001b[0m\u001b[1;33m(\u001b[0m\u001b[0mkey\u001b[0m\u001b[1;33m,\u001b[0m \u001b[1;34m\"columns\"\u001b[0m\u001b[1;33m)\u001b[0m\u001b[1;33m[\u001b[0m\u001b[1;36m1\u001b[0m\u001b[1;33m]\u001b[0m\u001b[1;33m\u001b[0m\u001b[1;33m\u001b[0m\u001b[0m\n\u001b[0m\u001b[0;32m   3814\u001b[0m \u001b[1;33m\u001b[0m\u001b[0m\n\u001b[0;32m   3815\u001b[0m         \u001b[1;31m# take() does not accept boolean indexers\u001b[0m\u001b[1;33m\u001b[0m\u001b[1;33m\u001b[0m\u001b[1;33m\u001b[0m\u001b[0m\n",
      "\u001b[1;32m~\\AppData\\Roaming\\Python\\Python38\\site-packages\\pandas\\core\\indexes\\base.py\u001b[0m in \u001b[0;36m_get_indexer_strict\u001b[1;34m(self, key, axis_name)\u001b[0m\n\u001b[0;32m   6068\u001b[0m             \u001b[0mkeyarr\u001b[0m\u001b[1;33m,\u001b[0m \u001b[0mindexer\u001b[0m\u001b[1;33m,\u001b[0m \u001b[0mnew_indexer\u001b[0m \u001b[1;33m=\u001b[0m \u001b[0mself\u001b[0m\u001b[1;33m.\u001b[0m\u001b[0m_reindex_non_unique\u001b[0m\u001b[1;33m(\u001b[0m\u001b[0mkeyarr\u001b[0m\u001b[1;33m)\u001b[0m\u001b[1;33m\u001b[0m\u001b[1;33m\u001b[0m\u001b[0m\n\u001b[0;32m   6069\u001b[0m \u001b[1;33m\u001b[0m\u001b[0m\n\u001b[1;32m-> 6070\u001b[1;33m         \u001b[0mself\u001b[0m\u001b[1;33m.\u001b[0m\u001b[0m_raise_if_missing\u001b[0m\u001b[1;33m(\u001b[0m\u001b[0mkeyarr\u001b[0m\u001b[1;33m,\u001b[0m \u001b[0mindexer\u001b[0m\u001b[1;33m,\u001b[0m \u001b[0maxis_name\u001b[0m\u001b[1;33m)\u001b[0m\u001b[1;33m\u001b[0m\u001b[1;33m\u001b[0m\u001b[0m\n\u001b[0m\u001b[0;32m   6071\u001b[0m \u001b[1;33m\u001b[0m\u001b[0m\n\u001b[0;32m   6072\u001b[0m         \u001b[0mkeyarr\u001b[0m \u001b[1;33m=\u001b[0m \u001b[0mself\u001b[0m\u001b[1;33m.\u001b[0m\u001b[0mtake\u001b[0m\u001b[1;33m(\u001b[0m\u001b[0mindexer\u001b[0m\u001b[1;33m)\u001b[0m\u001b[1;33m\u001b[0m\u001b[1;33m\u001b[0m\u001b[0m\n",
      "\u001b[1;32m~\\AppData\\Roaming\\Python\\Python38\\site-packages\\pandas\\core\\indexes\\base.py\u001b[0m in \u001b[0;36m_raise_if_missing\u001b[1;34m(self, key, indexer, axis_name)\u001b[0m\n\u001b[0;32m   6131\u001b[0m \u001b[1;33m\u001b[0m\u001b[0m\n\u001b[0;32m   6132\u001b[0m             \u001b[0mnot_found\u001b[0m \u001b[1;33m=\u001b[0m \u001b[0mlist\u001b[0m\u001b[1;33m(\u001b[0m\u001b[0mensure_index\u001b[0m\u001b[1;33m(\u001b[0m\u001b[0mkey\u001b[0m\u001b[1;33m)\u001b[0m\u001b[1;33m[\u001b[0m\u001b[0mmissing_mask\u001b[0m\u001b[1;33m.\u001b[0m\u001b[0mnonzero\u001b[0m\u001b[1;33m(\u001b[0m\u001b[1;33m)\u001b[0m\u001b[1;33m[\u001b[0m\u001b[1;36m0\u001b[0m\u001b[1;33m]\u001b[0m\u001b[1;33m]\u001b[0m\u001b[1;33m.\u001b[0m\u001b[0munique\u001b[0m\u001b[1;33m(\u001b[0m\u001b[1;33m)\u001b[0m\u001b[1;33m)\u001b[0m\u001b[1;33m\u001b[0m\u001b[1;33m\u001b[0m\u001b[0m\n\u001b[1;32m-> 6133\u001b[1;33m             \u001b[1;32mraise\u001b[0m \u001b[0mKeyError\u001b[0m\u001b[1;33m(\u001b[0m\u001b[1;34mf\"{not_found} not in index\"\u001b[0m\u001b[1;33m)\u001b[0m\u001b[1;33m\u001b[0m\u001b[1;33m\u001b[0m\u001b[0m\n\u001b[0m\u001b[0;32m   6134\u001b[0m \u001b[1;33m\u001b[0m\u001b[0m\n\u001b[0;32m   6135\u001b[0m     \u001b[1;33m@\u001b[0m\u001b[0moverload\u001b[0m\u001b[1;33m\u001b[0m\u001b[1;33m\u001b[0m\u001b[0m\n",
      "\u001b[1;31mKeyError\u001b[0m: \"['predictions'] not in index\""
     ]
    }
   ],
   "source": [
    "predicted_df_def_g[[\"Name\",\"ID\",\"Overall\",\"predictions\",\"Next_Overall\"]].head(20)"
   ]
  },
  {
   "cell_type": "code",
   "execution_count": 88,
   "id": "fd25d956",
   "metadata": {},
   "outputs": [
    {
     "data": {
      "text/html": [
       "<div>\n",
       "<style scoped>\n",
       "    .dataframe tbody tr th:only-of-type {\n",
       "        vertical-align: middle;\n",
       "    }\n",
       "\n",
       "    .dataframe tbody tr th {\n",
       "        vertical-align: top;\n",
       "    }\n",
       "\n",
       "    .dataframe thead th {\n",
       "        text-align: right;\n",
       "    }\n",
       "</style>\n",
       "<table border=\"1\" class=\"dataframe\">\n",
       "  <thead>\n",
       "    <tr style=\"text-align: right;\">\n",
       "      <th></th>\n",
       "      <th>Name</th>\n",
       "      <th>ID</th>\n",
       "      <th>Overall</th>\n",
       "      <th>Next_Overall</th>\n",
       "    </tr>\n",
       "  </thead>\n",
       "  <tbody>\n",
       "    <tr>\n",
       "      <th>0</th>\n",
       "      <td>L. Messi</td>\n",
       "      <td>https://cdn.sofifa.net/players/158/023/23_60.png</td>\n",
       "      <td>91</td>\n",
       "      <td>87</td>\n",
       "    </tr>\n",
       "    <tr>\n",
       "      <th>1</th>\n",
       "      <td>K. De Bruyne</td>\n",
       "      <td>https://cdn.sofifa.net/players/192/985/23_60.png</td>\n",
       "      <td>91</td>\n",
       "      <td>88</td>\n",
       "    </tr>\n",
       "    <tr>\n",
       "      <th>2</th>\n",
       "      <td>Casemiro</td>\n",
       "      <td>https://cdn.sofifa.net/players/200/145/23_60.png</td>\n",
       "      <td>89</td>\n",
       "      <td>88</td>\n",
       "    </tr>\n",
       "    <tr>\n",
       "      <th>3</th>\n",
       "      <td>S. Mané</td>\n",
       "      <td>https://cdn.sofifa.net/players/208/722/23_60.png</td>\n",
       "      <td>89</td>\n",
       "      <td>88</td>\n",
       "    </tr>\n",
       "    <tr>\n",
       "      <th>4</th>\n",
       "      <td>J. Kimmich</td>\n",
       "      <td>https://cdn.sofifa.net/players/212/622/23_60.png</td>\n",
       "      <td>89</td>\n",
       "      <td>88</td>\n",
       "    </tr>\n",
       "    <tr>\n",
       "      <th>5</th>\n",
       "      <td>N. Kanté</td>\n",
       "      <td>https://cdn.sofifa.net/players/215/914/23_60.png</td>\n",
       "      <td>89</td>\n",
       "      <td>88</td>\n",
       "    </tr>\n",
       "    <tr>\n",
       "      <th>6</th>\n",
       "      <td>Bernardo Silva</td>\n",
       "      <td>https://cdn.sofifa.net/players/218/667/23_60.png</td>\n",
       "      <td>88</td>\n",
       "      <td>87</td>\n",
       "    </tr>\n",
       "    <tr>\n",
       "      <th>7</th>\n",
       "      <td>T. Kroos</td>\n",
       "      <td>https://cdn.sofifa.net/players/182/521/23_60.png</td>\n",
       "      <td>88</td>\n",
       "      <td>87</td>\n",
       "    </tr>\n",
       "    <tr>\n",
       "      <th>8</th>\n",
       "      <td>L. Modrić</td>\n",
       "      <td>https://cdn.sofifa.net/players/177/003/23_60.png</td>\n",
       "      <td>88</td>\n",
       "      <td>86</td>\n",
       "    </tr>\n",
       "    <tr>\n",
       "      <th>9</th>\n",
       "      <td>Rodri</td>\n",
       "      <td>https://cdn.sofifa.net/players/231/866/23_60.png</td>\n",
       "      <td>87</td>\n",
       "      <td>86</td>\n",
       "    </tr>\n",
       "    <tr>\n",
       "      <th>10</th>\n",
       "      <td>Fabinho</td>\n",
       "      <td>https://cdn.sofifa.net/players/209/499/23_60.png</td>\n",
       "      <td>87</td>\n",
       "      <td>87</td>\n",
       "    </tr>\n",
       "    <tr>\n",
       "      <th>11</th>\n",
       "      <td>T. Müller</td>\n",
       "      <td>https://cdn.sofifa.net/players/189/596/23_60.png</td>\n",
       "      <td>87</td>\n",
       "      <td>86</td>\n",
       "    </tr>\n",
       "    <tr>\n",
       "      <th>12</th>\n",
       "      <td>M. Verratti</td>\n",
       "      <td>https://cdn.sofifa.net/players/199/556/23_60.png</td>\n",
       "      <td>87</td>\n",
       "      <td>86</td>\n",
       "    </tr>\n",
       "    <tr>\n",
       "      <th>13</th>\n",
       "      <td>T. Alexander-Arnold</td>\n",
       "      <td>https://cdn.sofifa.net/players/231/281/23_60.png</td>\n",
       "      <td>87</td>\n",
       "      <td>87</td>\n",
       "    </tr>\n",
       "    <tr>\n",
       "      <th>14</th>\n",
       "      <td>L. Goretzka</td>\n",
       "      <td>https://cdn.sofifa.net/players/209/658/23_60.png</td>\n",
       "      <td>87</td>\n",
       "      <td>86</td>\n",
       "    </tr>\n",
       "    <tr>\n",
       "      <th>15</th>\n",
       "      <td>F. de Jong</td>\n",
       "      <td>https://cdn.sofifa.net/players/228/702/23_60.png</td>\n",
       "      <td>87</td>\n",
       "      <td>86</td>\n",
       "    </tr>\n",
       "    <tr>\n",
       "      <th>16</th>\n",
       "      <td>Thiago</td>\n",
       "      <td>https://cdn.sofifa.net/players/189/509/23_60.png</td>\n",
       "      <td>86</td>\n",
       "      <td>86</td>\n",
       "    </tr>\n",
       "    <tr>\n",
       "      <th>17</th>\n",
       "      <td>P. Dybala</td>\n",
       "      <td>https://cdn.sofifa.net/players/211/110/23_60.png</td>\n",
       "      <td>86</td>\n",
       "      <td>86</td>\n",
       "    </tr>\n",
       "    <tr>\n",
       "      <th>18</th>\n",
       "      <td>Bruno Fernandes</td>\n",
       "      <td>https://cdn.sofifa.net/players/212/198/23_60.png</td>\n",
       "      <td>86</td>\n",
       "      <td>86</td>\n",
       "    </tr>\n",
       "    <tr>\n",
       "      <th>19</th>\n",
       "      <td>Parejo</td>\n",
       "      <td>https://cdn.sofifa.net/players/189/513/23_60.png</td>\n",
       "      <td>86</td>\n",
       "      <td>86</td>\n",
       "    </tr>\n",
       "  </tbody>\n",
       "</table>\n",
       "</div>"
      ],
      "text/plain": [
       "                   Name                                                ID  \\\n",
       "0              L. Messi  https://cdn.sofifa.net/players/158/023/23_60.png   \n",
       "1          K. De Bruyne  https://cdn.sofifa.net/players/192/985/23_60.png   \n",
       "2              Casemiro  https://cdn.sofifa.net/players/200/145/23_60.png   \n",
       "3               S. Mané  https://cdn.sofifa.net/players/208/722/23_60.png   \n",
       "4            J. Kimmich  https://cdn.sofifa.net/players/212/622/23_60.png   \n",
       "5              N. Kanté  https://cdn.sofifa.net/players/215/914/23_60.png   \n",
       "6        Bernardo Silva  https://cdn.sofifa.net/players/218/667/23_60.png   \n",
       "7              T. Kroos  https://cdn.sofifa.net/players/182/521/23_60.png   \n",
       "8             L. Modrić  https://cdn.sofifa.net/players/177/003/23_60.png   \n",
       "9                 Rodri  https://cdn.sofifa.net/players/231/866/23_60.png   \n",
       "10              Fabinho  https://cdn.sofifa.net/players/209/499/23_60.png   \n",
       "11            T. Müller  https://cdn.sofifa.net/players/189/596/23_60.png   \n",
       "12          M. Verratti  https://cdn.sofifa.net/players/199/556/23_60.png   \n",
       "13  T. Alexander-Arnold  https://cdn.sofifa.net/players/231/281/23_60.png   \n",
       "14          L. Goretzka  https://cdn.sofifa.net/players/209/658/23_60.png   \n",
       "15           F. de Jong  https://cdn.sofifa.net/players/228/702/23_60.png   \n",
       "16               Thiago  https://cdn.sofifa.net/players/189/509/23_60.png   \n",
       "17            P. Dybala  https://cdn.sofifa.net/players/211/110/23_60.png   \n",
       "18      Bruno Fernandes  https://cdn.sofifa.net/players/212/198/23_60.png   \n",
       "19               Parejo  https://cdn.sofifa.net/players/189/513/23_60.png   \n",
       "\n",
       "    Overall  Next_Overall  \n",
       "0        91            87  \n",
       "1        91            88  \n",
       "2        89            88  \n",
       "3        89            88  \n",
       "4        89            88  \n",
       "5        89            88  \n",
       "6        88            87  \n",
       "7        88            87  \n",
       "8        88            86  \n",
       "9        87            86  \n",
       "10       87            87  \n",
       "11       87            86  \n",
       "12       87            86  \n",
       "13       87            87  \n",
       "14       87            86  \n",
       "15       87            86  \n",
       "16       86            86  \n",
       "17       86            86  \n",
       "18       86            86  \n",
       "19       86            86  "
      ]
     },
     "execution_count": 88,
     "metadata": {},
     "output_type": "execute_result"
    }
   ],
   "source": [
    "predicted_df_mid[[\"Name\",\"ID\",\"Overall\",\"Next_Overall\"]].head(20)"
   ]
  },
  {
   "cell_type": "code",
   "execution_count": 90,
   "id": "5870d8ea",
   "metadata": {},
   "outputs": [
    {
     "data": {
      "text/html": [
       "<div>\n",
       "<style scoped>\n",
       "    .dataframe tbody tr th:only-of-type {\n",
       "        vertical-align: middle;\n",
       "    }\n",
       "\n",
       "    .dataframe tbody tr th {\n",
       "        vertical-align: top;\n",
       "    }\n",
       "\n",
       "    .dataframe thead th {\n",
       "        text-align: right;\n",
       "    }\n",
       "</style>\n",
       "<table border=\"1\" class=\"dataframe\">\n",
       "  <thead>\n",
       "    <tr style=\"text-align: right;\">\n",
       "      <th></th>\n",
       "      <th>Name</th>\n",
       "      <th>ID</th>\n",
       "      <th>Overall</th>\n",
       "      <th>Next_Overall</th>\n",
       "    </tr>\n",
       "  </thead>\n",
       "  <tbody>\n",
       "    <tr>\n",
       "      <th>0</th>\n",
       "      <td>R. Nainggolan</td>\n",
       "      <td>178518</td>\n",
       "      <td>86</td>\n",
       "      <td>85</td>\n",
       "    </tr>\n",
       "    <tr>\n",
       "      <th>1</th>\n",
       "      <td>P. Pogba</td>\n",
       "      <td>195864</td>\n",
       "      <td>88</td>\n",
       "      <td>88</td>\n",
       "    </tr>\n",
       "    <tr>\n",
       "      <th>2</th>\n",
       "      <td>A. Vidal</td>\n",
       "      <td>181872</td>\n",
       "      <td>86</td>\n",
       "      <td>85</td>\n",
       "    </tr>\n",
       "    <tr>\n",
       "      <th>3</th>\n",
       "      <td>K. De Bruyne</td>\n",
       "      <td>192985</td>\n",
       "      <td>91</td>\n",
       "      <td>90</td>\n",
       "    </tr>\n",
       "    <tr>\n",
       "      <th>4</th>\n",
       "      <td>L. Modrić</td>\n",
       "      <td>177003</td>\n",
       "      <td>89</td>\n",
       "      <td>89</td>\n",
       "    </tr>\n",
       "    <tr>\n",
       "      <th>5</th>\n",
       "      <td>L. Goretzka</td>\n",
       "      <td>209658</td>\n",
       "      <td>83</td>\n",
       "      <td>82</td>\n",
       "    </tr>\n",
       "    <tr>\n",
       "      <th>6</th>\n",
       "      <td>Marlos</td>\n",
       "      <td>187754</td>\n",
       "      <td>82</td>\n",
       "      <td>82</td>\n",
       "    </tr>\n",
       "    <tr>\n",
       "      <th>7</th>\n",
       "      <td>Morales</td>\n",
       "      <td>216475</td>\n",
       "      <td>79</td>\n",
       "      <td>80</td>\n",
       "    </tr>\n",
       "    <tr>\n",
       "      <th>8</th>\n",
       "      <td>Mosquera</td>\n",
       "      <td>178625</td>\n",
       "      <td>75</td>\n",
       "      <td>75</td>\n",
       "    </tr>\n",
       "    <tr>\n",
       "      <th>9</th>\n",
       "      <td>Montoro</td>\n",
       "      <td>186682</td>\n",
       "      <td>71</td>\n",
       "      <td>71</td>\n",
       "    </tr>\n",
       "  </tbody>\n",
       "</table>\n",
       "</div>"
      ],
      "text/plain": [
       "             Name      ID  Overall  Next_Overall\n",
       "0   R. Nainggolan  178518       86            85\n",
       "1        P. Pogba  195864       88            88\n",
       "2        A. Vidal  181872       86            85\n",
       "3    K. De Bruyne  192985       91            90\n",
       "4       L. Modrić  177003       89            89\n",
       "5     L. Goretzka  209658       83            82\n",
       "6          Marlos  187754       82            82\n",
       "7         Morales  216475       79            80\n",
       "8        Mosquera  178625       75            75\n",
       "9         Montoro  186682       71            71"
      ]
     },
     "execution_count": 90,
     "metadata": {},
     "output_type": "execute_result"
    }
   ],
   "source": [
    "predicted_df_mid_g[[\"Name\",\"ID\",\"Overall\",\"Next_Overall\"]].head(10)"
   ]
  },
  {
   "cell_type": "code",
   "execution_count": 91,
   "id": "e7b68774",
   "metadata": {},
   "outputs": [
    {
     "data": {
      "text/html": [
       "<div>\n",
       "<style scoped>\n",
       "    .dataframe tbody tr th:only-of-type {\n",
       "        vertical-align: middle;\n",
       "    }\n",
       "\n",
       "    .dataframe tbody tr th {\n",
       "        vertical-align: top;\n",
       "    }\n",
       "\n",
       "    .dataframe thead th {\n",
       "        text-align: right;\n",
       "    }\n",
       "</style>\n",
       "<table border=\"1\" class=\"dataframe\">\n",
       "  <thead>\n",
       "    <tr style=\"text-align: right;\">\n",
       "      <th></th>\n",
       "      <th>Name</th>\n",
       "      <th>ID</th>\n",
       "      <th>Overall</th>\n",
       "      <th>Next_Overall</th>\n",
       "    </tr>\n",
       "  </thead>\n",
       "  <tbody>\n",
       "    <tr>\n",
       "      <th>0</th>\n",
       "      <td>K. Benzema</td>\n",
       "      <td>https://cdn.sofifa.net/players/165/153/23_60.png</td>\n",
       "      <td>91</td>\n",
       "      <td>88</td>\n",
       "    </tr>\n",
       "    <tr>\n",
       "      <th>1</th>\n",
       "      <td>R. Lewandowski</td>\n",
       "      <td>https://cdn.sofifa.net/players/188/545/23_60.png</td>\n",
       "      <td>91</td>\n",
       "      <td>88</td>\n",
       "    </tr>\n",
       "    <tr>\n",
       "      <th>2</th>\n",
       "      <td>K. Mbappé</td>\n",
       "      <td>https://cdn.sofifa.net/players/231/747/23_60.png</td>\n",
       "      <td>91</td>\n",
       "      <td>88</td>\n",
       "    </tr>\n",
       "    <tr>\n",
       "      <th>3</th>\n",
       "      <td>M. Salah</td>\n",
       "      <td>https://cdn.sofifa.net/players/209/331/23_60.png</td>\n",
       "      <td>90</td>\n",
       "      <td>88</td>\n",
       "    </tr>\n",
       "    <tr>\n",
       "      <th>4</th>\n",
       "      <td>Cristiano Ronaldo</td>\n",
       "      <td>https://cdn.sofifa.net/players/020/801/23_60.png</td>\n",
       "      <td>90</td>\n",
       "      <td>88</td>\n",
       "    </tr>\n",
       "    <tr>\n",
       "      <th>5</th>\n",
       "      <td>H. Kane</td>\n",
       "      <td>https://cdn.sofifa.net/players/202/126/23_60.png</td>\n",
       "      <td>89</td>\n",
       "      <td>88</td>\n",
       "    </tr>\n",
       "    <tr>\n",
       "      <th>6</th>\n",
       "      <td>Neymar Jr</td>\n",
       "      <td>https://cdn.sofifa.net/players/190/871/23_60.png</td>\n",
       "      <td>89</td>\n",
       "      <td>88</td>\n",
       "    </tr>\n",
       "    <tr>\n",
       "      <th>7</th>\n",
       "      <td>H. Son</td>\n",
       "      <td>https://cdn.sofifa.net/players/200/104/23_60.png</td>\n",
       "      <td>89</td>\n",
       "      <td>88</td>\n",
       "    </tr>\n",
       "    <tr>\n",
       "      <th>8</th>\n",
       "      <td>E. Haaland</td>\n",
       "      <td>https://cdn.sofifa.net/players/239/085/23_60.png</td>\n",
       "      <td>88</td>\n",
       "      <td>87</td>\n",
       "    </tr>\n",
       "    <tr>\n",
       "      <th>9</th>\n",
       "      <td>C. Immobile</td>\n",
       "      <td>https://cdn.sofifa.net/players/192/387/23_60.png</td>\n",
       "      <td>86</td>\n",
       "      <td>85</td>\n",
       "    </tr>\n",
       "    <tr>\n",
       "      <th>10</th>\n",
       "      <td>R. Lukaku</td>\n",
       "      <td>https://cdn.sofifa.net/players/192/505/23_60.png</td>\n",
       "      <td>86</td>\n",
       "      <td>86</td>\n",
       "    </tr>\n",
       "    <tr>\n",
       "      <th>11</th>\n",
       "      <td>R. Sterling</td>\n",
       "      <td>https://cdn.sofifa.net/players/202/652/23_60.png</td>\n",
       "      <td>86</td>\n",
       "      <td>86</td>\n",
       "    </tr>\n",
       "    <tr>\n",
       "      <th>12</th>\n",
       "      <td>R. Mahrez</td>\n",
       "      <td>https://cdn.sofifa.net/players/204/485/23_60.png</td>\n",
       "      <td>86</td>\n",
       "      <td>86</td>\n",
       "    </tr>\n",
       "    <tr>\n",
       "      <th>13</th>\n",
       "      <td>L. Martínez</td>\n",
       "      <td>https://cdn.sofifa.net/players/231/478/23_60.png</td>\n",
       "      <td>86</td>\n",
       "      <td>86</td>\n",
       "    </tr>\n",
       "    <tr>\n",
       "      <th>14</th>\n",
       "      <td>Vinícius Jr.</td>\n",
       "      <td>https://cdn.sofifa.net/players/238/794/23_60.png</td>\n",
       "      <td>86</td>\n",
       "      <td>86</td>\n",
       "    </tr>\n",
       "    <tr>\n",
       "      <th>15</th>\n",
       "      <td>P. Aubameyang</td>\n",
       "      <td>https://cdn.sofifa.net/players/188/567/23_60.png</td>\n",
       "      <td>85</td>\n",
       "      <td>84</td>\n",
       "    </tr>\n",
       "    <tr>\n",
       "      <th>16</th>\n",
       "      <td>Iago Aspas</td>\n",
       "      <td>https://cdn.sofifa.net/players/192/629/23_60.png</td>\n",
       "      <td>85</td>\n",
       "      <td>84</td>\n",
       "    </tr>\n",
       "    <tr>\n",
       "      <th>17</th>\n",
       "      <td>M. Depay</td>\n",
       "      <td>https://cdn.sofifa.net/players/202/556/23_60.png</td>\n",
       "      <td>85</td>\n",
       "      <td>84</td>\n",
       "    </tr>\n",
       "    <tr>\n",
       "      <th>18</th>\n",
       "      <td>Gerard Moreno</td>\n",
       "      <td>https://cdn.sofifa.net/players/208/093/23_60.png</td>\n",
       "      <td>85</td>\n",
       "      <td>84</td>\n",
       "    </tr>\n",
       "    <tr>\n",
       "      <th>19</th>\n",
       "      <td>J. Vardy</td>\n",
       "      <td>https://cdn.sofifa.net/players/208/830/23_60.png</td>\n",
       "      <td>85</td>\n",
       "      <td>84</td>\n",
       "    </tr>\n",
       "  </tbody>\n",
       "</table>\n",
       "</div>"
      ],
      "text/plain": [
       "                 Name                                                ID  \\\n",
       "0          K. Benzema  https://cdn.sofifa.net/players/165/153/23_60.png   \n",
       "1      R. Lewandowski  https://cdn.sofifa.net/players/188/545/23_60.png   \n",
       "2           K. Mbappé  https://cdn.sofifa.net/players/231/747/23_60.png   \n",
       "3            M. Salah  https://cdn.sofifa.net/players/209/331/23_60.png   \n",
       "4   Cristiano Ronaldo  https://cdn.sofifa.net/players/020/801/23_60.png   \n",
       "5             H. Kane  https://cdn.sofifa.net/players/202/126/23_60.png   \n",
       "6           Neymar Jr  https://cdn.sofifa.net/players/190/871/23_60.png   \n",
       "7              H. Son  https://cdn.sofifa.net/players/200/104/23_60.png   \n",
       "8          E. Haaland  https://cdn.sofifa.net/players/239/085/23_60.png   \n",
       "9         C. Immobile  https://cdn.sofifa.net/players/192/387/23_60.png   \n",
       "10          R. Lukaku  https://cdn.sofifa.net/players/192/505/23_60.png   \n",
       "11        R. Sterling  https://cdn.sofifa.net/players/202/652/23_60.png   \n",
       "12          R. Mahrez  https://cdn.sofifa.net/players/204/485/23_60.png   \n",
       "13        L. Martínez  https://cdn.sofifa.net/players/231/478/23_60.png   \n",
       "14       Vinícius Jr.  https://cdn.sofifa.net/players/238/794/23_60.png   \n",
       "15      P. Aubameyang  https://cdn.sofifa.net/players/188/567/23_60.png   \n",
       "16         Iago Aspas  https://cdn.sofifa.net/players/192/629/23_60.png   \n",
       "17           M. Depay  https://cdn.sofifa.net/players/202/556/23_60.png   \n",
       "18      Gerard Moreno  https://cdn.sofifa.net/players/208/093/23_60.png   \n",
       "19           J. Vardy  https://cdn.sofifa.net/players/208/830/23_60.png   \n",
       "\n",
       "    Overall  Next_Overall  \n",
       "0        91            88  \n",
       "1        91            88  \n",
       "2        91            88  \n",
       "3        90            88  \n",
       "4        90            88  \n",
       "5        89            88  \n",
       "6        89            88  \n",
       "7        89            88  \n",
       "8        88            87  \n",
       "9        86            85  \n",
       "10       86            86  \n",
       "11       86            86  \n",
       "12       86            86  \n",
       "13       86            86  \n",
       "14       86            86  \n",
       "15       85            84  \n",
       "16       85            84  \n",
       "17       85            84  \n",
       "18       85            84  \n",
       "19       85            84  "
      ]
     },
     "execution_count": 91,
     "metadata": {},
     "output_type": "execute_result"
    }
   ],
   "source": [
    "predicted_df_fw[[\"Name\",\"ID\",\"Overall\",\"Next_Overall\"]].head(20)"
   ]
  },
  {
   "cell_type": "code",
   "execution_count": 92,
   "id": "f1bf965a",
   "metadata": {},
   "outputs": [
    {
     "data": {
      "text/html": [
       "<div>\n",
       "<style scoped>\n",
       "    .dataframe tbody tr th:only-of-type {\n",
       "        vertical-align: middle;\n",
       "    }\n",
       "\n",
       "    .dataframe tbody tr th {\n",
       "        vertical-align: top;\n",
       "    }\n",
       "\n",
       "    .dataframe thead th {\n",
       "        text-align: right;\n",
       "    }\n",
       "</style>\n",
       "<table border=\"1\" class=\"dataframe\">\n",
       "  <thead>\n",
       "    <tr style=\"text-align: right;\">\n",
       "      <th></th>\n",
       "      <th>Name</th>\n",
       "      <th>ID</th>\n",
       "      <th>Overall</th>\n",
       "      <th>Next_Overall</th>\n",
       "    </tr>\n",
       "  </thead>\n",
       "  <tbody>\n",
       "    <tr>\n",
       "      <th>0</th>\n",
       "      <td>L. Suárez</td>\n",
       "      <td>176580</td>\n",
       "      <td>92</td>\n",
       "      <td>91</td>\n",
       "    </tr>\n",
       "    <tr>\n",
       "      <th>1</th>\n",
       "      <td>A. Florenzi</td>\n",
       "      <td>203551</td>\n",
       "      <td>82</td>\n",
       "      <td>81</td>\n",
       "    </tr>\n",
       "    <tr>\n",
       "      <th>2</th>\n",
       "      <td>Cristiano Ronaldo</td>\n",
       "      <td>20801</td>\n",
       "      <td>94</td>\n",
       "      <td>93</td>\n",
       "    </tr>\n",
       "    <tr>\n",
       "      <th>3</th>\n",
       "      <td>A. Sánchez</td>\n",
       "      <td>184941</td>\n",
       "      <td>88</td>\n",
       "      <td>84</td>\n",
       "    </tr>\n",
       "    <tr>\n",
       "      <th>4</th>\n",
       "      <td>A. Sánchez</td>\n",
       "      <td>184941</td>\n",
       "      <td>88</td>\n",
       "      <td>85</td>\n",
       "    </tr>\n",
       "    <tr>\n",
       "      <th>5</th>\n",
       "      <td>Roberto Firmino</td>\n",
       "      <td>201942</td>\n",
       "      <td>85</td>\n",
       "      <td>85</td>\n",
       "    </tr>\n",
       "    <tr>\n",
       "      <th>6</th>\n",
       "      <td>Crislan</td>\n",
       "      <td>224126</td>\n",
       "      <td>70</td>\n",
       "      <td>70</td>\n",
       "    </tr>\n",
       "    <tr>\n",
       "      <th>7</th>\n",
       "      <td>Crislan</td>\n",
       "      <td>224126</td>\n",
       "      <td>70</td>\n",
       "      <td>69</td>\n",
       "    </tr>\n",
       "    <tr>\n",
       "      <th>8</th>\n",
       "      <td>A. Griezmann</td>\n",
       "      <td>194765</td>\n",
       "      <td>88</td>\n",
       "      <td>86</td>\n",
       "    </tr>\n",
       "    <tr>\n",
       "      <th>9</th>\n",
       "      <td>R. Lewandowski</td>\n",
       "      <td>188545</td>\n",
       "      <td>91</td>\n",
       "      <td>90</td>\n",
       "    </tr>\n",
       "    <tr>\n",
       "      <th>10</th>\n",
       "      <td>Jonathas</td>\n",
       "      <td>189169</td>\n",
       "      <td>78</td>\n",
       "      <td>76</td>\n",
       "    </tr>\n",
       "    <tr>\n",
       "      <th>11</th>\n",
       "      <td>Jonathas</td>\n",
       "      <td>189169</td>\n",
       "      <td>78</td>\n",
       "      <td>76</td>\n",
       "    </tr>\n",
       "    <tr>\n",
       "      <th>12</th>\n",
       "      <td>M. Salah</td>\n",
       "      <td>209331</td>\n",
       "      <td>87</td>\n",
       "      <td>89</td>\n",
       "    </tr>\n",
       "    <tr>\n",
       "      <th>13</th>\n",
       "      <td>D. Alli</td>\n",
       "      <td>211117</td>\n",
       "      <td>84</td>\n",
       "      <td>85</td>\n",
       "    </tr>\n",
       "    <tr>\n",
       "      <th>14</th>\n",
       "      <td>Adaílton</td>\n",
       "      <td>190139</td>\n",
       "      <td>67</td>\n",
       "      <td>68</td>\n",
       "    </tr>\n",
       "    <tr>\n",
       "      <th>15</th>\n",
       "      <td>E. Cavani</td>\n",
       "      <td>179813</td>\n",
       "      <td>88</td>\n",
       "      <td>89</td>\n",
       "    </tr>\n",
       "    <tr>\n",
       "      <th>16</th>\n",
       "      <td>Mata</td>\n",
       "      <td>223578</td>\n",
       "      <td>75</td>\n",
       "      <td>74</td>\n",
       "    </tr>\n",
       "    <tr>\n",
       "      <th>17</th>\n",
       "      <td>Mata</td>\n",
       "      <td>223578</td>\n",
       "      <td>75</td>\n",
       "      <td>74</td>\n",
       "    </tr>\n",
       "    <tr>\n",
       "      <th>18</th>\n",
       "      <td>M. Mandžukić</td>\n",
       "      <td>181783</td>\n",
       "      <td>83</td>\n",
       "      <td>84</td>\n",
       "    </tr>\n",
       "    <tr>\n",
       "      <th>19</th>\n",
       "      <td>Rodrigo</td>\n",
       "      <td>198329</td>\n",
       "      <td>81</td>\n",
       "      <td>80</td>\n",
       "    </tr>\n",
       "  </tbody>\n",
       "</table>\n",
       "</div>"
      ],
      "text/plain": [
       "                  Name      ID  Overall  Next_Overall\n",
       "0            L. Suárez  176580       92            91\n",
       "1          A. Florenzi  203551       82            81\n",
       "2    Cristiano Ronaldo   20801       94            93\n",
       "3           A. Sánchez  184941       88            84\n",
       "4           A. Sánchez  184941       88            85\n",
       "5      Roberto Firmino  201942       85            85\n",
       "6              Crislan  224126       70            70\n",
       "7              Crislan  224126       70            69\n",
       "8         A. Griezmann  194765       88            86\n",
       "9       R. Lewandowski  188545       91            90\n",
       "10            Jonathas  189169       78            76\n",
       "11            Jonathas  189169       78            76\n",
       "12            M. Salah  209331       87            89\n",
       "13             D. Alli  211117       84            85\n",
       "14            Adaílton  190139       67            68\n",
       "15           E. Cavani  179813       88            89\n",
       "16                Mata  223578       75            74\n",
       "17                Mata  223578       75            74\n",
       "18        M. Mandžukić  181783       83            84\n",
       "19             Rodrigo  198329       81            80"
      ]
     },
     "execution_count": 92,
     "metadata": {},
     "output_type": "execute_result"
    }
   ],
   "source": [
    "predicted_df_fw_g[[\"Name\",\"ID\",\"Overall\",\"Next_Overall\"]].head(20)"
   ]
  },
  {
   "cell_type": "markdown",
   "id": "5229db48",
   "metadata": {},
   "source": [
    "XGBoost"
   ]
  },
  {
   "cell_type": "code",
   "execution_count": 93,
   "id": "641dd395",
   "metadata": {},
   "outputs": [
    {
     "data": {
      "text/html": [
       "<div>\n",
       "<style scoped>\n",
       "    .dataframe tbody tr th:only-of-type {\n",
       "        vertical-align: middle;\n",
       "    }\n",
       "\n",
       "    .dataframe tbody tr th {\n",
       "        vertical-align: top;\n",
       "    }\n",
       "\n",
       "    .dataframe thead th {\n",
       "        text-align: right;\n",
       "    }\n",
       "</style>\n",
       "<table border=\"1\" class=\"dataframe\">\n",
       "  <thead>\n",
       "    <tr style=\"text-align: right;\">\n",
       "      <th></th>\n",
       "      <th>Name</th>\n",
       "      <th>ID</th>\n",
       "      <th>Overall</th>\n",
       "      <th>Next_Overall</th>\n",
       "    </tr>\n",
       "  </thead>\n",
       "  <tbody>\n",
       "    <tr>\n",
       "      <th>0</th>\n",
       "      <td>V. van Dijk</td>\n",
       "      <td>https://cdn.sofifa.net/players/203/376/23_60.png</td>\n",
       "      <td>90</td>\n",
       "      <td>91</td>\n",
       "    </tr>\n",
       "    <tr>\n",
       "      <th>1</th>\n",
       "      <td>Rúben Dias</td>\n",
       "      <td>https://cdn.sofifa.net/players/239/818/23_60.png</td>\n",
       "      <td>88</td>\n",
       "      <td>88</td>\n",
       "    </tr>\n",
       "    <tr>\n",
       "      <th>2</th>\n",
       "      <td>João Cancelo</td>\n",
       "      <td>https://cdn.sofifa.net/players/210/514/23_60.png</td>\n",
       "      <td>88</td>\n",
       "      <td>88</td>\n",
       "    </tr>\n",
       "    <tr>\n",
       "      <th>3</th>\n",
       "      <td>Marquinhos</td>\n",
       "      <td>https://cdn.sofifa.net/players/207/865/23_60.png</td>\n",
       "      <td>88</td>\n",
       "      <td>89</td>\n",
       "    </tr>\n",
       "    <tr>\n",
       "      <th>4</th>\n",
       "      <td>A. Rüdiger</td>\n",
       "      <td>https://cdn.sofifa.net/players/205/452/23_60.png</td>\n",
       "      <td>87</td>\n",
       "      <td>87</td>\n",
       "    </tr>\n",
       "  </tbody>\n",
       "</table>\n",
       "</div>"
      ],
      "text/plain": [
       "           Name                                                ID  Overall  \\\n",
       "0   V. van Dijk  https://cdn.sofifa.net/players/203/376/23_60.png       90   \n",
       "1    Rúben Dias  https://cdn.sofifa.net/players/239/818/23_60.png       88   \n",
       "2  João Cancelo  https://cdn.sofifa.net/players/210/514/23_60.png       88   \n",
       "3    Marquinhos  https://cdn.sofifa.net/players/207/865/23_60.png       88   \n",
       "4    A. Rüdiger  https://cdn.sofifa.net/players/205/452/23_60.png       87   \n",
       "\n",
       "   Next_Overall  \n",
       "0            91  \n",
       "1            88  \n",
       "2            88  \n",
       "3            89  \n",
       "4            87  "
      ]
     },
     "execution_count": 93,
     "metadata": {},
     "output_type": "execute_result"
    }
   ],
   "source": [
    "xgpredicted_df_def[[\"Name\",\"ID\",\"Overall\",\"Next_Overall\"]].head()"
   ]
  },
  {
   "cell_type": "code",
   "execution_count": 95,
   "id": "0a07a693",
   "metadata": {},
   "outputs": [
    {
     "data": {
      "text/html": [
       "<div>\n",
       "<style scoped>\n",
       "    .dataframe tbody tr th:only-of-type {\n",
       "        vertical-align: middle;\n",
       "    }\n",
       "\n",
       "    .dataframe tbody tr th {\n",
       "        vertical-align: top;\n",
       "    }\n",
       "\n",
       "    .dataframe thead th {\n",
       "        text-align: right;\n",
       "    }\n",
       "</style>\n",
       "<table border=\"1\" class=\"dataframe\">\n",
       "  <thead>\n",
       "    <tr style=\"text-align: right;\">\n",
       "      <th></th>\n",
       "      <th>Name</th>\n",
       "      <th>ID</th>\n",
       "      <th>Overall</th>\n",
       "      <th>Next_Overall</th>\n",
       "    </tr>\n",
       "  </thead>\n",
       "  <tbody>\n",
       "    <tr>\n",
       "      <th>0</th>\n",
       "      <td>D. Alaba</td>\n",
       "      <td>197445</td>\n",
       "      <td>85</td>\n",
       "      <td>84</td>\n",
       "    </tr>\n",
       "    <tr>\n",
       "      <th>1</th>\n",
       "      <td>Jordi Alba</td>\n",
       "      <td>189332</td>\n",
       "      <td>87</td>\n",
       "      <td>86</td>\n",
       "    </tr>\n",
       "    <tr>\n",
       "      <th>2</th>\n",
       "      <td>A. Kolarov</td>\n",
       "      <td>185103</td>\n",
       "      <td>81</td>\n",
       "      <td>83</td>\n",
       "    </tr>\n",
       "    <tr>\n",
       "      <th>3</th>\n",
       "      <td>Marcelo</td>\n",
       "      <td>176676</td>\n",
       "      <td>87</td>\n",
       "      <td>86</td>\n",
       "    </tr>\n",
       "    <tr>\n",
       "      <th>4</th>\n",
       "      <td>Alex Sandro</td>\n",
       "      <td>191043</td>\n",
       "      <td>86</td>\n",
       "      <td>86</td>\n",
       "    </tr>\n",
       "    <tr>\n",
       "      <th>5</th>\n",
       "      <td>Fábinho</td>\n",
       "      <td>188522</td>\n",
       "      <td>66</td>\n",
       "      <td>64</td>\n",
       "    </tr>\n",
       "    <tr>\n",
       "      <th>6</th>\n",
       "      <td>Felipe</td>\n",
       "      <td>768</td>\n",
       "      <td>75</td>\n",
       "      <td>74</td>\n",
       "    </tr>\n",
       "    <tr>\n",
       "      <th>7</th>\n",
       "      <td>A. Valencia</td>\n",
       "      <td>167905</td>\n",
       "      <td>83</td>\n",
       "      <td>78</td>\n",
       "    </tr>\n",
       "    <tr>\n",
       "      <th>8</th>\n",
       "      <td>L. Baines</td>\n",
       "      <td>163631</td>\n",
       "      <td>80</td>\n",
       "      <td>76</td>\n",
       "    </tr>\n",
       "    <tr>\n",
       "      <th>9</th>\n",
       "      <td>R. Rodríguez</td>\n",
       "      <td>193352</td>\n",
       "      <td>80</td>\n",
       "      <td>80</td>\n",
       "    </tr>\n",
       "    <tr>\n",
       "      <th>10</th>\n",
       "      <td>K. Walker</td>\n",
       "      <td>188377</td>\n",
       "      <td>84</td>\n",
       "      <td>84</td>\n",
       "    </tr>\n",
       "    <tr>\n",
       "      <th>11</th>\n",
       "      <td>J. Kimmich</td>\n",
       "      <td>212622</td>\n",
       "      <td>84</td>\n",
       "      <td>85</td>\n",
       "    </tr>\n",
       "    <tr>\n",
       "      <th>12</th>\n",
       "      <td>K. Asamoah</td>\n",
       "      <td>186832</td>\n",
       "      <td>79</td>\n",
       "      <td>79</td>\n",
       "    </tr>\n",
       "    <tr>\n",
       "      <th>13</th>\n",
       "      <td>Marcos Alonso</td>\n",
       "      <td>192638</td>\n",
       "      <td>82</td>\n",
       "      <td>82</td>\n",
       "    </tr>\n",
       "    <tr>\n",
       "      <th>14</th>\n",
       "      <td>Cédric</td>\n",
       "      <td>201118</td>\n",
       "      <td>78</td>\n",
       "      <td>78</td>\n",
       "    </tr>\n",
       "    <tr>\n",
       "      <th>15</th>\n",
       "      <td>Cédric</td>\n",
       "      <td>201118</td>\n",
       "      <td>78</td>\n",
       "      <td>77</td>\n",
       "    </tr>\n",
       "    <tr>\n",
       "      <th>16</th>\n",
       "      <td>Capa</td>\n",
       "      <td>216189</td>\n",
       "      <td>78</td>\n",
       "      <td>80</td>\n",
       "    </tr>\n",
       "    <tr>\n",
       "      <th>17</th>\n",
       "      <td>Capa</td>\n",
       "      <td>216189</td>\n",
       "      <td>78</td>\n",
       "      <td>78</td>\n",
       "    </tr>\n",
       "    <tr>\n",
       "      <th>18</th>\n",
       "      <td>Carvajal</td>\n",
       "      <td>204963</td>\n",
       "      <td>84</td>\n",
       "      <td>85</td>\n",
       "    </tr>\n",
       "    <tr>\n",
       "      <th>19</th>\n",
       "      <td>Carvajal</td>\n",
       "      <td>204963</td>\n",
       "      <td>84</td>\n",
       "      <td>83</td>\n",
       "    </tr>\n",
       "  </tbody>\n",
       "</table>\n",
       "</div>"
      ],
      "text/plain": [
       "              Name      ID  Overall  Next_Overall\n",
       "0         D. Alaba  197445       85            84\n",
       "1       Jordi Alba  189332       87            86\n",
       "2       A. Kolarov  185103       81            83\n",
       "3          Marcelo  176676       87            86\n",
       "4      Alex Sandro  191043       86            86\n",
       "5          Fábinho  188522       66            64\n",
       "6           Felipe     768       75            74\n",
       "7      A. Valencia  167905       83            78\n",
       "8        L. Baines  163631       80            76\n",
       "9     R. Rodríguez  193352       80            80\n",
       "10       K. Walker  188377       84            84\n",
       "11      J. Kimmich  212622       84            85\n",
       "12      K. Asamoah  186832       79            79\n",
       "13   Marcos Alonso  192638       82            82\n",
       "14          Cédric  201118       78            78\n",
       "15          Cédric  201118       78            77\n",
       "16            Capa  216189       78            80\n",
       "17            Capa  216189       78            78\n",
       "18        Carvajal  204963       84            85\n",
       "19        Carvajal  204963       84            83"
      ]
     },
     "execution_count": 95,
     "metadata": {},
     "output_type": "execute_result"
    }
   ],
   "source": [
    "xgpredicted_df_def_g[[\"Name\",\"ID\",\"Overall\",\"Next_Overall\"]].head(20)"
   ]
  },
  {
   "cell_type": "code",
   "execution_count": 96,
   "id": "6074279d",
   "metadata": {},
   "outputs": [
    {
     "data": {
      "text/html": [
       "<div>\n",
       "<style scoped>\n",
       "    .dataframe tbody tr th:only-of-type {\n",
       "        vertical-align: middle;\n",
       "    }\n",
       "\n",
       "    .dataframe tbody tr th {\n",
       "        vertical-align: top;\n",
       "    }\n",
       "\n",
       "    .dataframe thead th {\n",
       "        text-align: right;\n",
       "    }\n",
       "</style>\n",
       "<table border=\"1\" class=\"dataframe\">\n",
       "  <thead>\n",
       "    <tr style=\"text-align: right;\">\n",
       "      <th></th>\n",
       "      <th>Name</th>\n",
       "      <th>ID</th>\n",
       "      <th>Overall</th>\n",
       "      <th>Next_Overall</th>\n",
       "    </tr>\n",
       "  </thead>\n",
       "  <tbody>\n",
       "    <tr>\n",
       "      <th>0</th>\n",
       "      <td>L. Messi</td>\n",
       "      <td>https://cdn.sofifa.net/players/158/023/23_60.png</td>\n",
       "      <td>91</td>\n",
       "      <td>89</td>\n",
       "    </tr>\n",
       "    <tr>\n",
       "      <th>1</th>\n",
       "      <td>K. De Bruyne</td>\n",
       "      <td>https://cdn.sofifa.net/players/192/985/23_60.png</td>\n",
       "      <td>91</td>\n",
       "      <td>85</td>\n",
       "    </tr>\n",
       "    <tr>\n",
       "      <th>2</th>\n",
       "      <td>Casemiro</td>\n",
       "      <td>https://cdn.sofifa.net/players/200/145/23_60.png</td>\n",
       "      <td>89</td>\n",
       "      <td>87</td>\n",
       "    </tr>\n",
       "    <tr>\n",
       "      <th>3</th>\n",
       "      <td>S. Mané</td>\n",
       "      <td>https://cdn.sofifa.net/players/208/722/23_60.png</td>\n",
       "      <td>89</td>\n",
       "      <td>91</td>\n",
       "    </tr>\n",
       "    <tr>\n",
       "      <th>4</th>\n",
       "      <td>J. Kimmich</td>\n",
       "      <td>https://cdn.sofifa.net/players/212/622/23_60.png</td>\n",
       "      <td>89</td>\n",
       "      <td>88</td>\n",
       "    </tr>\n",
       "    <tr>\n",
       "      <th>5</th>\n",
       "      <td>N. Kanté</td>\n",
       "      <td>https://cdn.sofifa.net/players/215/914/23_60.png</td>\n",
       "      <td>89</td>\n",
       "      <td>87</td>\n",
       "    </tr>\n",
       "    <tr>\n",
       "      <th>6</th>\n",
       "      <td>Bernardo Silva</td>\n",
       "      <td>https://cdn.sofifa.net/players/218/667/23_60.png</td>\n",
       "      <td>88</td>\n",
       "      <td>88</td>\n",
       "    </tr>\n",
       "    <tr>\n",
       "      <th>7</th>\n",
       "      <td>T. Kroos</td>\n",
       "      <td>https://cdn.sofifa.net/players/182/521/23_60.png</td>\n",
       "      <td>88</td>\n",
       "      <td>85</td>\n",
       "    </tr>\n",
       "    <tr>\n",
       "      <th>8</th>\n",
       "      <td>L. Modrić</td>\n",
       "      <td>https://cdn.sofifa.net/players/177/003/23_60.png</td>\n",
       "      <td>88</td>\n",
       "      <td>84</td>\n",
       "    </tr>\n",
       "    <tr>\n",
       "      <th>9</th>\n",
       "      <td>Rodri</td>\n",
       "      <td>https://cdn.sofifa.net/players/231/866/23_60.png</td>\n",
       "      <td>87</td>\n",
       "      <td>87</td>\n",
       "    </tr>\n",
       "    <tr>\n",
       "      <th>10</th>\n",
       "      <td>Fabinho</td>\n",
       "      <td>https://cdn.sofifa.net/players/209/499/23_60.png</td>\n",
       "      <td>87</td>\n",
       "      <td>87</td>\n",
       "    </tr>\n",
       "    <tr>\n",
       "      <th>11</th>\n",
       "      <td>T. Müller</td>\n",
       "      <td>https://cdn.sofifa.net/players/189/596/23_60.png</td>\n",
       "      <td>87</td>\n",
       "      <td>86</td>\n",
       "    </tr>\n",
       "    <tr>\n",
       "      <th>12</th>\n",
       "      <td>M. Verratti</td>\n",
       "      <td>https://cdn.sofifa.net/players/199/556/23_60.png</td>\n",
       "      <td>87</td>\n",
       "      <td>85</td>\n",
       "    </tr>\n",
       "    <tr>\n",
       "      <th>13</th>\n",
       "      <td>T. Alexander-Arnold</td>\n",
       "      <td>https://cdn.sofifa.net/players/231/281/23_60.png</td>\n",
       "      <td>87</td>\n",
       "      <td>87</td>\n",
       "    </tr>\n",
       "    <tr>\n",
       "      <th>14</th>\n",
       "      <td>L. Goretzka</td>\n",
       "      <td>https://cdn.sofifa.net/players/209/658/23_60.png</td>\n",
       "      <td>87</td>\n",
       "      <td>86</td>\n",
       "    </tr>\n",
       "    <tr>\n",
       "      <th>15</th>\n",
       "      <td>F. de Jong</td>\n",
       "      <td>https://cdn.sofifa.net/players/228/702/23_60.png</td>\n",
       "      <td>87</td>\n",
       "      <td>86</td>\n",
       "    </tr>\n",
       "    <tr>\n",
       "      <th>16</th>\n",
       "      <td>Thiago</td>\n",
       "      <td>https://cdn.sofifa.net/players/189/509/23_60.png</td>\n",
       "      <td>86</td>\n",
       "      <td>85</td>\n",
       "    </tr>\n",
       "    <tr>\n",
       "      <th>17</th>\n",
       "      <td>P. Dybala</td>\n",
       "      <td>https://cdn.sofifa.net/players/211/110/23_60.png</td>\n",
       "      <td>86</td>\n",
       "      <td>89</td>\n",
       "    </tr>\n",
       "    <tr>\n",
       "      <th>18</th>\n",
       "      <td>Bruno Fernandes</td>\n",
       "      <td>https://cdn.sofifa.net/players/212/198/23_60.png</td>\n",
       "      <td>86</td>\n",
       "      <td>83</td>\n",
       "    </tr>\n",
       "    <tr>\n",
       "      <th>19</th>\n",
       "      <td>Parejo</td>\n",
       "      <td>https://cdn.sofifa.net/players/189/513/23_60.png</td>\n",
       "      <td>86</td>\n",
       "      <td>81</td>\n",
       "    </tr>\n",
       "  </tbody>\n",
       "</table>\n",
       "</div>"
      ],
      "text/plain": [
       "                   Name                                                ID  \\\n",
       "0              L. Messi  https://cdn.sofifa.net/players/158/023/23_60.png   \n",
       "1          K. De Bruyne  https://cdn.sofifa.net/players/192/985/23_60.png   \n",
       "2              Casemiro  https://cdn.sofifa.net/players/200/145/23_60.png   \n",
       "3               S. Mané  https://cdn.sofifa.net/players/208/722/23_60.png   \n",
       "4            J. Kimmich  https://cdn.sofifa.net/players/212/622/23_60.png   \n",
       "5              N. Kanté  https://cdn.sofifa.net/players/215/914/23_60.png   \n",
       "6        Bernardo Silva  https://cdn.sofifa.net/players/218/667/23_60.png   \n",
       "7              T. Kroos  https://cdn.sofifa.net/players/182/521/23_60.png   \n",
       "8             L. Modrić  https://cdn.sofifa.net/players/177/003/23_60.png   \n",
       "9                 Rodri  https://cdn.sofifa.net/players/231/866/23_60.png   \n",
       "10              Fabinho  https://cdn.sofifa.net/players/209/499/23_60.png   \n",
       "11            T. Müller  https://cdn.sofifa.net/players/189/596/23_60.png   \n",
       "12          M. Verratti  https://cdn.sofifa.net/players/199/556/23_60.png   \n",
       "13  T. Alexander-Arnold  https://cdn.sofifa.net/players/231/281/23_60.png   \n",
       "14          L. Goretzka  https://cdn.sofifa.net/players/209/658/23_60.png   \n",
       "15           F. de Jong  https://cdn.sofifa.net/players/228/702/23_60.png   \n",
       "16               Thiago  https://cdn.sofifa.net/players/189/509/23_60.png   \n",
       "17            P. Dybala  https://cdn.sofifa.net/players/211/110/23_60.png   \n",
       "18      Bruno Fernandes  https://cdn.sofifa.net/players/212/198/23_60.png   \n",
       "19               Parejo  https://cdn.sofifa.net/players/189/513/23_60.png   \n",
       "\n",
       "    Overall  Next_Overall  \n",
       "0        91            89  \n",
       "1        91            85  \n",
       "2        89            87  \n",
       "3        89            91  \n",
       "4        89            88  \n",
       "5        89            87  \n",
       "6        88            88  \n",
       "7        88            85  \n",
       "8        88            84  \n",
       "9        87            87  \n",
       "10       87            87  \n",
       "11       87            86  \n",
       "12       87            85  \n",
       "13       87            87  \n",
       "14       87            86  \n",
       "15       87            86  \n",
       "16       86            85  \n",
       "17       86            89  \n",
       "18       86            83  \n",
       "19       86            81  "
      ]
     },
     "execution_count": 96,
     "metadata": {},
     "output_type": "execute_result"
    }
   ],
   "source": [
    "xgpredicted_df_mid[[\"Name\",\"ID\",\"Overall\",\"Next_Overall\"]].head(20)"
   ]
  },
  {
   "cell_type": "code",
   "execution_count": 97,
   "id": "947ff549",
   "metadata": {},
   "outputs": [
    {
     "data": {
      "text/html": [
       "<div>\n",
       "<style scoped>\n",
       "    .dataframe tbody tr th:only-of-type {\n",
       "        vertical-align: middle;\n",
       "    }\n",
       "\n",
       "    .dataframe tbody tr th {\n",
       "        vertical-align: top;\n",
       "    }\n",
       "\n",
       "    .dataframe thead th {\n",
       "        text-align: right;\n",
       "    }\n",
       "</style>\n",
       "<table border=\"1\" class=\"dataframe\">\n",
       "  <thead>\n",
       "    <tr style=\"text-align: right;\">\n",
       "      <th></th>\n",
       "      <th>Name</th>\n",
       "      <th>ID</th>\n",
       "      <th>Overall</th>\n",
       "      <th>Next_Overall</th>\n",
       "    </tr>\n",
       "  </thead>\n",
       "  <tbody>\n",
       "    <tr>\n",
       "      <th>0</th>\n",
       "      <td>R. Nainggolan</td>\n",
       "      <td>178518</td>\n",
       "      <td>86</td>\n",
       "      <td>85</td>\n",
       "    </tr>\n",
       "    <tr>\n",
       "      <th>1</th>\n",
       "      <td>P. Pogba</td>\n",
       "      <td>195864</td>\n",
       "      <td>88</td>\n",
       "      <td>88</td>\n",
       "    </tr>\n",
       "    <tr>\n",
       "      <th>2</th>\n",
       "      <td>A. Vidal</td>\n",
       "      <td>181872</td>\n",
       "      <td>86</td>\n",
       "      <td>85</td>\n",
       "    </tr>\n",
       "    <tr>\n",
       "      <th>3</th>\n",
       "      <td>K. De Bruyne</td>\n",
       "      <td>192985</td>\n",
       "      <td>91</td>\n",
       "      <td>91</td>\n",
       "    </tr>\n",
       "    <tr>\n",
       "      <th>4</th>\n",
       "      <td>L. Modrić</td>\n",
       "      <td>177003</td>\n",
       "      <td>89</td>\n",
       "      <td>88</td>\n",
       "    </tr>\n",
       "    <tr>\n",
       "      <th>5</th>\n",
       "      <td>L. Goretzka</td>\n",
       "      <td>209658</td>\n",
       "      <td>83</td>\n",
       "      <td>84</td>\n",
       "    </tr>\n",
       "    <tr>\n",
       "      <th>6</th>\n",
       "      <td>Marlos</td>\n",
       "      <td>187754</td>\n",
       "      <td>82</td>\n",
       "      <td>82</td>\n",
       "    </tr>\n",
       "    <tr>\n",
       "      <th>7</th>\n",
       "      <td>Morales</td>\n",
       "      <td>216475</td>\n",
       "      <td>79</td>\n",
       "      <td>81</td>\n",
       "    </tr>\n",
       "    <tr>\n",
       "      <th>8</th>\n",
       "      <td>Mosquera</td>\n",
       "      <td>178625</td>\n",
       "      <td>75</td>\n",
       "      <td>75</td>\n",
       "    </tr>\n",
       "    <tr>\n",
       "      <th>9</th>\n",
       "      <td>Montoro</td>\n",
       "      <td>186682</td>\n",
       "      <td>71</td>\n",
       "      <td>71</td>\n",
       "    </tr>\n",
       "    <tr>\n",
       "      <th>10</th>\n",
       "      <td>Magno</td>\n",
       "      <td>192259</td>\n",
       "      <td>69</td>\n",
       "      <td>70</td>\n",
       "    </tr>\n",
       "    <tr>\n",
       "      <th>11</th>\n",
       "      <td>Ander Herrera</td>\n",
       "      <td>191740</td>\n",
       "      <td>83</td>\n",
       "      <td>81</td>\n",
       "    </tr>\n",
       "    <tr>\n",
       "      <th>12</th>\n",
       "      <td>G. Bonaventura</td>\n",
       "      <td>189125</td>\n",
       "      <td>82</td>\n",
       "      <td>82</td>\n",
       "    </tr>\n",
       "    <tr>\n",
       "      <th>13</th>\n",
       "      <td>C. Tolisso</td>\n",
       "      <td>219683</td>\n",
       "      <td>82</td>\n",
       "      <td>83</td>\n",
       "    </tr>\n",
       "    <tr>\n",
       "      <th>14</th>\n",
       "      <td>Fernandinho</td>\n",
       "      <td>135507</td>\n",
       "      <td>85</td>\n",
       "      <td>87</td>\n",
       "    </tr>\n",
       "    <tr>\n",
       "      <th>15</th>\n",
       "      <td>B. Matuidi</td>\n",
       "      <td>170890</td>\n",
       "      <td>85</td>\n",
       "      <td>85</td>\n",
       "    </tr>\n",
       "    <tr>\n",
       "      <th>16</th>\n",
       "      <td>B. Matuidi</td>\n",
       "      <td>170890</td>\n",
       "      <td>85</td>\n",
       "      <td>85</td>\n",
       "    </tr>\n",
       "    <tr>\n",
       "      <th>17</th>\n",
       "      <td>Z. Junuzović</td>\n",
       "      <td>173474</td>\n",
       "      <td>79</td>\n",
       "      <td>77</td>\n",
       "    </tr>\n",
       "    <tr>\n",
       "      <th>18</th>\n",
       "      <td>João Moutinho</td>\n",
       "      <td>162347</td>\n",
       "      <td>82</td>\n",
       "      <td>83</td>\n",
       "    </tr>\n",
       "    <tr>\n",
       "      <th>19</th>\n",
       "      <td>M. Pjanić</td>\n",
       "      <td>180206</td>\n",
       "      <td>86</td>\n",
       "      <td>86</td>\n",
       "    </tr>\n",
       "    <tr>\n",
       "      <th>20</th>\n",
       "      <td>T. Kroos</td>\n",
       "      <td>182521</td>\n",
       "      <td>90</td>\n",
       "      <td>89</td>\n",
       "    </tr>\n",
       "    <tr>\n",
       "      <th>21</th>\n",
       "      <td>Thiago</td>\n",
       "      <td>189509</td>\n",
       "      <td>88</td>\n",
       "      <td>87</td>\n",
       "    </tr>\n",
       "    <tr>\n",
       "      <th>22</th>\n",
       "      <td>Tyronne</td>\n",
       "      <td>198964</td>\n",
       "      <td>69</td>\n",
       "      <td>67</td>\n",
       "    </tr>\n",
       "    <tr>\n",
       "      <th>23</th>\n",
       "      <td>K. Boateng</td>\n",
       "      <td>173909</td>\n",
       "      <td>81</td>\n",
       "      <td>80</td>\n",
       "    </tr>\n",
       "    <tr>\n",
       "      <th>24</th>\n",
       "      <td>M. Sanson</td>\n",
       "      <td>210896</td>\n",
       "      <td>81</td>\n",
       "      <td>80</td>\n",
       "    </tr>\n",
       "    <tr>\n",
       "      <th>25</th>\n",
       "      <td>K. Walker</td>\n",
       "      <td>183885</td>\n",
       "      <td>67</td>\n",
       "      <td>64</td>\n",
       "    </tr>\n",
       "    <tr>\n",
       "      <th>26</th>\n",
       "      <td>T. Lemar</td>\n",
       "      <td>213565</td>\n",
       "      <td>83</td>\n",
       "      <td>83</td>\n",
       "    </tr>\n",
       "    <tr>\n",
       "      <th>27</th>\n",
       "      <td>R. Guerreiro</td>\n",
       "      <td>209889</td>\n",
       "      <td>80</td>\n",
       "      <td>79</td>\n",
       "    </tr>\n",
       "    <tr>\n",
       "      <th>28</th>\n",
       "      <td>J. Henderson</td>\n",
       "      <td>183711</td>\n",
       "      <td>81</td>\n",
       "      <td>82</td>\n",
       "    </tr>\n",
       "    <tr>\n",
       "      <th>29</th>\n",
       "      <td>G. Wijnaldum</td>\n",
       "      <td>181291</td>\n",
       "      <td>82</td>\n",
       "      <td>82</td>\n",
       "    </tr>\n",
       "  </tbody>\n",
       "</table>\n",
       "</div>"
      ],
      "text/plain": [
       "               Name      ID  Overall  Next_Overall\n",
       "0     R. Nainggolan  178518       86            85\n",
       "1          P. Pogba  195864       88            88\n",
       "2          A. Vidal  181872       86            85\n",
       "3      K. De Bruyne  192985       91            91\n",
       "4         L. Modrić  177003       89            88\n",
       "5       L. Goretzka  209658       83            84\n",
       "6            Marlos  187754       82            82\n",
       "7           Morales  216475       79            81\n",
       "8          Mosquera  178625       75            75\n",
       "9           Montoro  186682       71            71\n",
       "10            Magno  192259       69            70\n",
       "11    Ander Herrera  191740       83            81\n",
       "12   G. Bonaventura  189125       82            82\n",
       "13       C. Tolisso  219683       82            83\n",
       "14      Fernandinho  135507       85            87\n",
       "15       B. Matuidi  170890       85            85\n",
       "16       B. Matuidi  170890       85            85\n",
       "17     Z. Junuzović  173474       79            77\n",
       "18    João Moutinho  162347       82            83\n",
       "19        M. Pjanić  180206       86            86\n",
       "20         T. Kroos  182521       90            89\n",
       "21           Thiago  189509       88            87\n",
       "22          Tyronne  198964       69            67\n",
       "23       K. Boateng  173909       81            80\n",
       "24        M. Sanson  210896       81            80\n",
       "25        K. Walker  183885       67            64\n",
       "26         T. Lemar  213565       83            83\n",
       "27     R. Guerreiro  209889       80            79\n",
       "28     J. Henderson  183711       81            82\n",
       "29     G. Wijnaldum  181291       82            82"
      ]
     },
     "execution_count": 97,
     "metadata": {},
     "output_type": "execute_result"
    }
   ],
   "source": [
    "xgpredicted_df_mid_g[[\"Name\",\"ID\",\"Overall\",\"Next_Overall\"]].head(30)"
   ]
  },
  {
   "cell_type": "code",
   "execution_count": 98,
   "id": "feb0eaf2",
   "metadata": {},
   "outputs": [
    {
     "data": {
      "text/html": [
       "<div>\n",
       "<style scoped>\n",
       "    .dataframe tbody tr th:only-of-type {\n",
       "        vertical-align: middle;\n",
       "    }\n",
       "\n",
       "    .dataframe tbody tr th {\n",
       "        vertical-align: top;\n",
       "    }\n",
       "\n",
       "    .dataframe thead th {\n",
       "        text-align: right;\n",
       "    }\n",
       "</style>\n",
       "<table border=\"1\" class=\"dataframe\">\n",
       "  <thead>\n",
       "    <tr style=\"text-align: right;\">\n",
       "      <th></th>\n",
       "      <th>Name</th>\n",
       "      <th>ID</th>\n",
       "      <th>Overall</th>\n",
       "      <th>Next_Overall</th>\n",
       "    </tr>\n",
       "  </thead>\n",
       "  <tbody>\n",
       "    <tr>\n",
       "      <th>0</th>\n",
       "      <td>K. Benzema</td>\n",
       "      <td>https://cdn.sofifa.net/players/165/153/23_60.png</td>\n",
       "      <td>91</td>\n",
       "      <td>92</td>\n",
       "    </tr>\n",
       "    <tr>\n",
       "      <th>1</th>\n",
       "      <td>R. Lewandowski</td>\n",
       "      <td>https://cdn.sofifa.net/players/188/545/23_60.png</td>\n",
       "      <td>91</td>\n",
       "      <td>90</td>\n",
       "    </tr>\n",
       "    <tr>\n",
       "      <th>2</th>\n",
       "      <td>K. Mbappé</td>\n",
       "      <td>https://cdn.sofifa.net/players/231/747/23_60.png</td>\n",
       "      <td>91</td>\n",
       "      <td>92</td>\n",
       "    </tr>\n",
       "    <tr>\n",
       "      <th>3</th>\n",
       "      <td>M. Salah</td>\n",
       "      <td>https://cdn.sofifa.net/players/209/331/23_60.png</td>\n",
       "      <td>90</td>\n",
       "      <td>88</td>\n",
       "    </tr>\n",
       "    <tr>\n",
       "      <th>4</th>\n",
       "      <td>Cristiano Ronaldo</td>\n",
       "      <td>https://cdn.sofifa.net/players/020/801/23_60.png</td>\n",
       "      <td>90</td>\n",
       "      <td>91</td>\n",
       "    </tr>\n",
       "    <tr>\n",
       "      <th>5</th>\n",
       "      <td>H. Kane</td>\n",
       "      <td>https://cdn.sofifa.net/players/202/126/23_60.png</td>\n",
       "      <td>89</td>\n",
       "      <td>90</td>\n",
       "    </tr>\n",
       "    <tr>\n",
       "      <th>6</th>\n",
       "      <td>Neymar Jr</td>\n",
       "      <td>https://cdn.sofifa.net/players/190/871/23_60.png</td>\n",
       "      <td>89</td>\n",
       "      <td>90</td>\n",
       "    </tr>\n",
       "    <tr>\n",
       "      <th>7</th>\n",
       "      <td>H. Son</td>\n",
       "      <td>https://cdn.sofifa.net/players/200/104/23_60.png</td>\n",
       "      <td>89</td>\n",
       "      <td>91</td>\n",
       "    </tr>\n",
       "    <tr>\n",
       "      <th>8</th>\n",
       "      <td>E. Haaland</td>\n",
       "      <td>https://cdn.sofifa.net/players/239/085/23_60.png</td>\n",
       "      <td>88</td>\n",
       "      <td>90</td>\n",
       "    </tr>\n",
       "    <tr>\n",
       "      <th>9</th>\n",
       "      <td>C. Immobile</td>\n",
       "      <td>https://cdn.sofifa.net/players/192/387/23_60.png</td>\n",
       "      <td>86</td>\n",
       "      <td>91</td>\n",
       "    </tr>\n",
       "    <tr>\n",
       "      <th>10</th>\n",
       "      <td>R. Lukaku</td>\n",
       "      <td>https://cdn.sofifa.net/players/192/505/23_60.png</td>\n",
       "      <td>86</td>\n",
       "      <td>91</td>\n",
       "    </tr>\n",
       "    <tr>\n",
       "      <th>11</th>\n",
       "      <td>R. Sterling</td>\n",
       "      <td>https://cdn.sofifa.net/players/202/652/23_60.png</td>\n",
       "      <td>86</td>\n",
       "      <td>88</td>\n",
       "    </tr>\n",
       "    <tr>\n",
       "      <th>12</th>\n",
       "      <td>R. Mahrez</td>\n",
       "      <td>https://cdn.sofifa.net/players/204/485/23_60.png</td>\n",
       "      <td>86</td>\n",
       "      <td>89</td>\n",
       "    </tr>\n",
       "    <tr>\n",
       "      <th>13</th>\n",
       "      <td>L. Martínez</td>\n",
       "      <td>https://cdn.sofifa.net/players/231/478/23_60.png</td>\n",
       "      <td>86</td>\n",
       "      <td>91</td>\n",
       "    </tr>\n",
       "    <tr>\n",
       "      <th>14</th>\n",
       "      <td>Vinícius Jr.</td>\n",
       "      <td>https://cdn.sofifa.net/players/238/794/23_60.png</td>\n",
       "      <td>86</td>\n",
       "      <td>92</td>\n",
       "    </tr>\n",
       "    <tr>\n",
       "      <th>15</th>\n",
       "      <td>P. Aubameyang</td>\n",
       "      <td>https://cdn.sofifa.net/players/188/567/23_60.png</td>\n",
       "      <td>85</td>\n",
       "      <td>89</td>\n",
       "    </tr>\n",
       "    <tr>\n",
       "      <th>16</th>\n",
       "      <td>Iago Aspas</td>\n",
       "      <td>https://cdn.sofifa.net/players/192/629/23_60.png</td>\n",
       "      <td>85</td>\n",
       "      <td>88</td>\n",
       "    </tr>\n",
       "    <tr>\n",
       "      <th>17</th>\n",
       "      <td>M. Depay</td>\n",
       "      <td>https://cdn.sofifa.net/players/202/556/23_60.png</td>\n",
       "      <td>85</td>\n",
       "      <td>90</td>\n",
       "    </tr>\n",
       "    <tr>\n",
       "      <th>18</th>\n",
       "      <td>Gerard Moreno</td>\n",
       "      <td>https://cdn.sofifa.net/players/208/093/23_60.png</td>\n",
       "      <td>85</td>\n",
       "      <td>90</td>\n",
       "    </tr>\n",
       "    <tr>\n",
       "      <th>19</th>\n",
       "      <td>J. Vardy</td>\n",
       "      <td>https://cdn.sofifa.net/players/208/830/23_60.png</td>\n",
       "      <td>85</td>\n",
       "      <td>87</td>\n",
       "    </tr>\n",
       "  </tbody>\n",
       "</table>\n",
       "</div>"
      ],
      "text/plain": [
       "                 Name                                                ID  \\\n",
       "0          K. Benzema  https://cdn.sofifa.net/players/165/153/23_60.png   \n",
       "1      R. Lewandowski  https://cdn.sofifa.net/players/188/545/23_60.png   \n",
       "2           K. Mbappé  https://cdn.sofifa.net/players/231/747/23_60.png   \n",
       "3            M. Salah  https://cdn.sofifa.net/players/209/331/23_60.png   \n",
       "4   Cristiano Ronaldo  https://cdn.sofifa.net/players/020/801/23_60.png   \n",
       "5             H. Kane  https://cdn.sofifa.net/players/202/126/23_60.png   \n",
       "6           Neymar Jr  https://cdn.sofifa.net/players/190/871/23_60.png   \n",
       "7              H. Son  https://cdn.sofifa.net/players/200/104/23_60.png   \n",
       "8          E. Haaland  https://cdn.sofifa.net/players/239/085/23_60.png   \n",
       "9         C. Immobile  https://cdn.sofifa.net/players/192/387/23_60.png   \n",
       "10          R. Lukaku  https://cdn.sofifa.net/players/192/505/23_60.png   \n",
       "11        R. Sterling  https://cdn.sofifa.net/players/202/652/23_60.png   \n",
       "12          R. Mahrez  https://cdn.sofifa.net/players/204/485/23_60.png   \n",
       "13        L. Martínez  https://cdn.sofifa.net/players/231/478/23_60.png   \n",
       "14       Vinícius Jr.  https://cdn.sofifa.net/players/238/794/23_60.png   \n",
       "15      P. Aubameyang  https://cdn.sofifa.net/players/188/567/23_60.png   \n",
       "16         Iago Aspas  https://cdn.sofifa.net/players/192/629/23_60.png   \n",
       "17           M. Depay  https://cdn.sofifa.net/players/202/556/23_60.png   \n",
       "18      Gerard Moreno  https://cdn.sofifa.net/players/208/093/23_60.png   \n",
       "19           J. Vardy  https://cdn.sofifa.net/players/208/830/23_60.png   \n",
       "\n",
       "    Overall  Next_Overall  \n",
       "0        91            92  \n",
       "1        91            90  \n",
       "2        91            92  \n",
       "3        90            88  \n",
       "4        90            91  \n",
       "5        89            90  \n",
       "6        89            90  \n",
       "7        89            91  \n",
       "8        88            90  \n",
       "9        86            91  \n",
       "10       86            91  \n",
       "11       86            88  \n",
       "12       86            89  \n",
       "13       86            91  \n",
       "14       86            92  \n",
       "15       85            89  \n",
       "16       85            88  \n",
       "17       85            90  \n",
       "18       85            90  \n",
       "19       85            87  "
      ]
     },
     "execution_count": 98,
     "metadata": {},
     "output_type": "execute_result"
    }
   ],
   "source": [
    "xgpredicted_df_fw[[\"Name\",\"ID\",\"Overall\",\"Next_Overall\"]].head(20)"
   ]
  },
  {
   "cell_type": "code",
   "execution_count": 100,
   "id": "4e0051e2",
   "metadata": {},
   "outputs": [
    {
     "data": {
      "text/html": [
       "<div>\n",
       "<style scoped>\n",
       "    .dataframe tbody tr th:only-of-type {\n",
       "        vertical-align: middle;\n",
       "    }\n",
       "\n",
       "    .dataframe tbody tr th {\n",
       "        vertical-align: top;\n",
       "    }\n",
       "\n",
       "    .dataframe thead th {\n",
       "        text-align: right;\n",
       "    }\n",
       "</style>\n",
       "<table border=\"1\" class=\"dataframe\">\n",
       "  <thead>\n",
       "    <tr style=\"text-align: right;\">\n",
       "      <th></th>\n",
       "      <th>Name</th>\n",
       "      <th>ID</th>\n",
       "      <th>Overall</th>\n",
       "      <th>Next_Overall</th>\n",
       "    </tr>\n",
       "  </thead>\n",
       "  <tbody>\n",
       "    <tr>\n",
       "      <th>0</th>\n",
       "      <td>L. Suárez</td>\n",
       "      <td>176580</td>\n",
       "      <td>92</td>\n",
       "      <td>91</td>\n",
       "    </tr>\n",
       "    <tr>\n",
       "      <th>1</th>\n",
       "      <td>A. Florenzi</td>\n",
       "      <td>203551</td>\n",
       "      <td>82</td>\n",
       "      <td>80</td>\n",
       "    </tr>\n",
       "    <tr>\n",
       "      <th>2</th>\n",
       "      <td>Cristiano Ronaldo</td>\n",
       "      <td>20801</td>\n",
       "      <td>94</td>\n",
       "      <td>94</td>\n",
       "    </tr>\n",
       "    <tr>\n",
       "      <th>3</th>\n",
       "      <td>A. Sánchez</td>\n",
       "      <td>184941</td>\n",
       "      <td>88</td>\n",
       "      <td>83</td>\n",
       "    </tr>\n",
       "    <tr>\n",
       "      <th>4</th>\n",
       "      <td>A. Sánchez</td>\n",
       "      <td>184941</td>\n",
       "      <td>88</td>\n",
       "      <td>84</td>\n",
       "    </tr>\n",
       "    <tr>\n",
       "      <th>5</th>\n",
       "      <td>Roberto Firmino</td>\n",
       "      <td>201942</td>\n",
       "      <td>85</td>\n",
       "      <td>86</td>\n",
       "    </tr>\n",
       "    <tr>\n",
       "      <th>6</th>\n",
       "      <td>Crislan</td>\n",
       "      <td>224126</td>\n",
       "      <td>70</td>\n",
       "      <td>69</td>\n",
       "    </tr>\n",
       "    <tr>\n",
       "      <th>7</th>\n",
       "      <td>Crislan</td>\n",
       "      <td>224126</td>\n",
       "      <td>70</td>\n",
       "      <td>69</td>\n",
       "    </tr>\n",
       "    <tr>\n",
       "      <th>8</th>\n",
       "      <td>A. Griezmann</td>\n",
       "      <td>194765</td>\n",
       "      <td>88</td>\n",
       "      <td>87</td>\n",
       "    </tr>\n",
       "    <tr>\n",
       "      <th>9</th>\n",
       "      <td>R. Lewandowski</td>\n",
       "      <td>188545</td>\n",
       "      <td>91</td>\n",
       "      <td>90</td>\n",
       "    </tr>\n",
       "    <tr>\n",
       "      <th>10</th>\n",
       "      <td>Jonathas</td>\n",
       "      <td>189169</td>\n",
       "      <td>78</td>\n",
       "      <td>76</td>\n",
       "    </tr>\n",
       "    <tr>\n",
       "      <th>11</th>\n",
       "      <td>Jonathas</td>\n",
       "      <td>189169</td>\n",
       "      <td>78</td>\n",
       "      <td>76</td>\n",
       "    </tr>\n",
       "    <tr>\n",
       "      <th>12</th>\n",
       "      <td>M. Salah</td>\n",
       "      <td>209331</td>\n",
       "      <td>87</td>\n",
       "      <td>89</td>\n",
       "    </tr>\n",
       "    <tr>\n",
       "      <th>13</th>\n",
       "      <td>D. Alli</td>\n",
       "      <td>211117</td>\n",
       "      <td>84</td>\n",
       "      <td>85</td>\n",
       "    </tr>\n",
       "    <tr>\n",
       "      <th>14</th>\n",
       "      <td>Adaílton</td>\n",
       "      <td>190139</td>\n",
       "      <td>67</td>\n",
       "      <td>67</td>\n",
       "    </tr>\n",
       "    <tr>\n",
       "      <th>15</th>\n",
       "      <td>E. Cavani</td>\n",
       "      <td>179813</td>\n",
       "      <td>88</td>\n",
       "      <td>89</td>\n",
       "    </tr>\n",
       "    <tr>\n",
       "      <th>16</th>\n",
       "      <td>Mata</td>\n",
       "      <td>223578</td>\n",
       "      <td>75</td>\n",
       "      <td>74</td>\n",
       "    </tr>\n",
       "    <tr>\n",
       "      <th>17</th>\n",
       "      <td>Mata</td>\n",
       "      <td>223578</td>\n",
       "      <td>75</td>\n",
       "      <td>75</td>\n",
       "    </tr>\n",
       "    <tr>\n",
       "      <th>18</th>\n",
       "      <td>M. Mandžukić</td>\n",
       "      <td>181783</td>\n",
       "      <td>83</td>\n",
       "      <td>85</td>\n",
       "    </tr>\n",
       "    <tr>\n",
       "      <th>19</th>\n",
       "      <td>Rodrigo</td>\n",
       "      <td>198329</td>\n",
       "      <td>81</td>\n",
       "      <td>80</td>\n",
       "    </tr>\n",
       "  </tbody>\n",
       "</table>\n",
       "</div>"
      ],
      "text/plain": [
       "                  Name      ID  Overall  Next_Overall\n",
       "0            L. Suárez  176580       92            91\n",
       "1          A. Florenzi  203551       82            80\n",
       "2    Cristiano Ronaldo   20801       94            94\n",
       "3           A. Sánchez  184941       88            83\n",
       "4           A. Sánchez  184941       88            84\n",
       "5      Roberto Firmino  201942       85            86\n",
       "6              Crislan  224126       70            69\n",
       "7              Crislan  224126       70            69\n",
       "8         A. Griezmann  194765       88            87\n",
       "9       R. Lewandowski  188545       91            90\n",
       "10            Jonathas  189169       78            76\n",
       "11            Jonathas  189169       78            76\n",
       "12            M. Salah  209331       87            89\n",
       "13             D. Alli  211117       84            85\n",
       "14            Adaílton  190139       67            67\n",
       "15           E. Cavani  179813       88            89\n",
       "16                Mata  223578       75            74\n",
       "17                Mata  223578       75            75\n",
       "18        M. Mandžukić  181783       83            85\n",
       "19             Rodrigo  198329       81            80"
      ]
     },
     "execution_count": 100,
     "metadata": {},
     "output_type": "execute_result"
    }
   ],
   "source": [
    "xgpredicted_df_fw_g[[\"Name\",\"ID\",\"Overall\",\"Next_Overall\"]].head(20)"
   ]
  },
  {
   "cell_type": "markdown",
   "id": "cb9bc2f3",
   "metadata": {},
   "source": [
    "## Feature Importance"
   ]
  },
  {
   "cell_type": "code",
   "execution_count": 101,
   "id": "812d3a75",
   "metadata": {},
   "outputs": [
    {
     "data": {
      "image/png": "[encoded data removed]",
      "text/plain": [
       "<Figure size 864x432 with 1 Axes>"
      ]
     },
     "metadata": {
      "needs_background": "light"
     },
     "output_type": "display_data"
    }
   ],
   "source": [
    "plot_bar_chart(def_pfi , \"def pfi\")"
   ]
  },
  {
   "cell_type": "code",
   "execution_count": 102,
   "id": "7195641f",
   "metadata": {},
   "outputs": [
    {
     "data": {
      "image/png": "[encoded data removed]",
      "text/plain": [
       "<Figure size 864x432 with 1 Axes>"
      ]
     },
     "metadata": {
      "needs_background": "light"
     },
     "output_type": "display_data"
    }
   ],
   "source": [
    "plot_bar_chart(fwd_pfi, \"fwd pfi\")"
   ]
  },
  {
   "cell_type": "code",
   "execution_count": 103,
   "id": "de7b3b70",
   "metadata": {},
   "outputs": [
    {
     "data": {
      "image/png": "[encoded data removed]",
      "text/plain": [
       "<Figure size 864x432 with 1 Axes>"
      ]
     },
     "metadata": {
      "needs_background": "light"
     },
     "output_type": "display_data"
    }
   ],
   "source": [
    "plot_bar_chart(mid_pfi, \"mid pfi\")"
   ]
  },
  {
   "cell_type": "code",
   "execution_count": 104,
   "id": "ef17fe49",
   "metadata": {},
   "outputs": [
    {
     "data": {
      "image/png": "[encoded data removed]",
      "text/plain": [
       "<Figure size 864x432 with 1 Axes>"
      ]
     },
     "metadata": {
      "needs_background": "light"
     },
     "output_type": "display_data"
    }
   ],
   "source": [
    "plot_bar_chart(def_pfi_g, \"def_pfi_with_stats\")"
   ]
  },
  {
   "cell_type": "code",
   "execution_count": 105,
   "id": "32dadbc4",
   "metadata": {},
   "outputs": [
    {
     "data": {
      "image/png": "[encoded data removed]",
      "text/plain": [
       "<Figure size 864x432 with 1 Axes>"
      ]
     },
     "metadata": {
      "needs_background": "light"
     },
     "output_type": "display_data"
    }
   ],
   "source": [
    "plot_bar_chart(mid_pfi_g, \"mid_pfi_with_stats\")"
   ]
  },
  {
   "cell_type": "code",
   "execution_count": 106,
   "id": "e68ddc17",
   "metadata": {},
   "outputs": [
    {
     "data": {
      "image/png": "[encoded data removed]",
      "text/plain": [
       "<Figure size 864x432 with 1 Axes>"
      ]
     },
     "metadata": {
      "needs_background": "light"
     },
     "output_type": "display_data"
    }
   ],
   "source": [
    "plot_bar_chart(fw_pfi_g, \"fw_pfi_with_stats\")"
   ]
  },
  {
   "cell_type": "code",
   "execution_count": null,
   "id": "937dc273",
   "metadata": {},
   "outputs": [],
   "source": []
  },
  {
   "cell_type": "code",
   "execution_count": null,
   "id": "a6ff964e",
   "metadata": {},
   "outputs": [],
   "source": []
  },
  {
   "cell_type": "code",
   "execution_count": null,
   "id": "34c33b07",
   "metadata": {},
   "outputs": [],
   "source": []
  }
 ],
 "metadata": {
  "kernelspec": {
   "display_name": "Python 3 (ipykernel)",
   "language": "python",
   "name": "python3"
  },
  "language_info": {
   "codemirror_mode": {
    "name": "ipython",
    "version": 3
   },
   "file_extension": ".py",
   "mimetype": "text/x-python",
   "name": "python",
   "nbconvert_exporter": "python",
   "pygments_lexer": "ipython3",
   "version": "3.8.2"
  }
 },
 "nbformat": 4,
 "nbformat_minor": 5
}
